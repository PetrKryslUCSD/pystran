{
 "cells": [
  {
   "cell_type": "markdown",
   "id": "7236a445-318e-4c22-9d30-710c2fdab54a",
   "metadata": {},
   "source": [
    "# Check of the 3D beam stiffness matrix\n",
    "\n",
    "In this example it is demonstrated that the stiffness matrix computed by the\n",
    "pystran package results in the same matrix that is assembled from a textbook formula\n",
    "that produces the stiffness matrix of in the local beam coordinate system, and\n",
    "then transforms it using a 12x12 transformation matrix into the global\n",
    "coordinates.\n",
    "\n",
    "We consider a beam in general orientation, meaning that the joint locations are \"random\" (in the sense of not being special in any way)."
   ]
  },
  {
   "cell_type": "code",
   "execution_count": 17,
   "id": "5ababb6a-e35f-46c0-9dcf-a06ecdbaf6cd",
   "metadata": {},
   "outputs": [],
   "source": [
    "from numpy import zeros, dot\n",
    "import context\n",
    "import pystran\n",
    "from numpy.linalg import norm\n",
    "from pystran import model\n",
    "from pystran import section"
   ]
  },
  {
   "cell_type": "markdown",
   "id": "0d37770b-0bbc-4e17-a5bd-39c62387ac3f",
   "metadata": {},
   "source": [
    "These are the parameters that characterize the three dimensional beam."
   ]
  },
  {
   "cell_type": "code",
   "execution_count": 18,
   "id": "a88ee1a5-ee36-4fc9-9566-d0bf469873e7",
   "metadata": {},
   "outputs": [],
   "source": [
    "E = 2.0e6\n",
    "G = E / (2 * (1 + 0.3))\n",
    "H = 0.13\n",
    "B = 0.5\n",
    "A = H * B\n",
    "Iy = H * B**3 / 12\n",
    "Iz = H**3 * B / 12\n",
    "Ix = Iy + Iz\n",
    "J = Ix\n",
    "xz_vector = [0, 0, 1]"
   ]
  },
  {
   "cell_type": "markdown",
   "id": "3d217050-37a4-49cf-a2c9-c51c211e77ae",
   "metadata": {},
   "source": [
    "In pystran we set up a \"structure\" consisting of a single beam member and two joints."
   ]
  },
  {
   "cell_type": "code",
   "execution_count": 19,
   "id": "fd684b0a-0b3f-4748-bd69-29df20528e9c",
   "metadata": {},
   "outputs": [
    {
     "data": {
      "text/plain": [
       "{'connectivity': [1, 2],\n",
       " 'section': {'name': 'sect_1',\n",
       "  'E': 2000000.0,\n",
       "  'G': 769230.7692307692,\n",
       "  'rho': 0.0,\n",
       "  'CTE': 0.0,\n",
       "  'A': 0.065,\n",
       "  'Ix': 0.0014457083333333334,\n",
       "  'Iy': 0.0013541666666666667,\n",
       "  'Iz': 9.154166666666668e-05,\n",
       "  'J': 0.0014457083333333334,\n",
       "  'xz_vector': [0, 0, 1]}}"
      ]
     },
     "execution_count": 19,
     "metadata": {},
     "output_type": "execute_result"
    }
   ],
   "source": [
    "m = model.create(3)\n",
    "\n",
    "# General orientation\n",
    "model.add_joint(m, 1, [-1.0, 2.0, 3.0])\n",
    "# model.add_joint(m, 2, [10.0, 7.0, 8.0])\n",
    "model.add_joint(m, 2, [-10.0, 7.0, -8.0])\n",
    "# Default orientation\n",
    "# model.add_joint(m, 1, [0.0, 0.0, 0.0])\n",
    "# model.add_joint(m, 2, [10.0, 0.0, 0.0])\n",
    "\n",
    "s1 = section.beam_3d_section(\n",
    "    \"sect_1\", E=E, G=G, A=A, Ix=Ix, Iy=Iy, Iz=Iz, J=J, xz_vector=xz_vector\n",
    ")\n",
    "model.add_beam_member(m, 1, [1, 2], s1)"
   ]
  },
  {
   "cell_type": "markdown",
   "id": "6420df76-f38b-48d7-9ee9-bca81eabbcd2",
   "metadata": {},
   "source": [
    "It is possible to proceed in at least two ways: If we support the beam sufficiently, we can solved a static problem. Otherwise, we have to assemble the stiffness matrix ourselves, because the static solution cannot be run successfully with a \"floppy\", unsupported,  structure. Here we go with the second option.\n",
    "The degrees of freedom are numbered, and we can check that the degrees of freedom are numbered such that joint `i` gets the first six, and joint `j` the second six (12 degrees of freedom overall). "
   ]
  },
  {
   "cell_type": "code",
   "execution_count": 20,
   "id": "c72d74a7-e2be-4699-bd2a-a5db1b184b4d",
   "metadata": {},
   "outputs": [
    {
     "name": "stdout",
     "output_type": "stream",
     "text": [
      "{1: {'jid': 1, 'coordinates': array([-1.,  2.,  3.]), 'dof': array([0, 1, 2, 3, 4, 5], dtype=int32)}, 2: {'jid': 2, 'coordinates': array([-10.,   7.,  -8.]), 'dof': array([ 6,  7,  8,  9, 10, 11], dtype=int32)}}\n"
     ]
    }
   ],
   "source": [
    "model.number_dofs(m)\n",
    "print(m['joints'])"
   ]
  },
  {
   "cell_type": "code",
   "execution_count": 21,
   "id": "53fd9a9f-985e-4210-966e-3a559aac8ba5",
   "metadata": {},
   "outputs": [
    {
     "name": "stdout",
     "output_type": "stream",
     "text": [
      "12 12\n"
     ]
    }
   ],
   "source": [
    "nt, nf = m[\"ntotaldof\"], m[\"nfreedof\"]\n",
    "print(nt, nf)"
   ]
  },
  {
   "cell_type": "markdown",
   "id": "955403e3-0172-4e1f-ab0a-75154f16708f",
   "metadata": {},
   "source": [
    "The total number of degrees of freedom is therefore 12, which equals the number of free degrees of freedom (and hence the stiffness matrix is singular).\n",
    "\n",
    "Now we use the functionality implemented in the `beam` module to compute and assemble the stiffness matrix of this single member."
   ]
  },
  {
   "cell_type": "code",
   "execution_count": 22,
   "id": "7eb9a15f-c4f0-4ff1-93c2-94965702f790",
   "metadata": {},
   "outputs": [
    {
     "name": "stdout",
     "output_type": "stream",
     "text": [
      "dict_values([{'connectivity': [1, 2], 'section': {'name': 'sect_1', 'E': 2000000.0, 'G': 769230.7692307692, 'rho': 0.0, 'CTE': 0.0, 'A': 0.065, 'Ix': 0.0014457083333333334, 'Iy': 0.0013541666666666667, 'Iz': 9.154166666666668e-05, 'J': 0.0014457083333333334, 'xz_vector': [0, 0, 1]}}])\n"
     ]
    }
   ],
   "source": [
    "# Check that we only have this single member:\n",
    "print(m[\"beam_members\"].values())\n",
    "# Allocate the matrix, and assemble the member stiffness.\n",
    "K1 = zeros((nt, nt))\n",
    "member = m[\"beam_members\"][1]\n",
    "    onnectivity = member[\"connectivity\"]\n",
    "    i, j = m[\"joints\"][connectivity[0]], m[\"joints\"][connectivity[1]]\n",
    "    pystran.beam.assemble_stiffness(K1, member, i, j)\n",
    "e_x, e_y, e_z, h = pystran.geometry.member_3d_geometry(i, j, xz_vector)"
   ]
  },
  {
   "cell_type": "markdown",
   "id": "d01686f9-bc2c-420f-b83f-eedf892951f0",
   "metadata": {},
   "source": [
    "Now we can compute the stiffness matrix of the three dimensional beam the way it is usually done in structural analysis courses. In other words, the $12\\times12$ matrix is essentially precomputed analytically for a special orientation of the beam (the beam is oriented such that its local coordinate system agrees with the global coordinate system)."
   ]
  },
  {
   "cell_type": "code",
   "execution_count": 23,
   "id": "56056c54-37a9-4b9d-97d4-0be994de7a84",
   "metadata": {},
   "outputs": [
    {
     "ename": "NameError",
     "evalue": "name 'h' is not defined",
     "output_type": "error",
     "traceback": [
      "\u001b[1;31m---------------------------------------------------------------------------\u001b[0m",
      "\u001b[1;31mNameError\u001b[0m                                 Traceback (most recent call last)",
      "Cell \u001b[1;32mIn[23], line 3\u001b[0m\n\u001b[0;32m      1\u001b[0m K \u001b[38;5;241m=\u001b[39m zeros((nt, nt))\n\u001b[0;32m      2\u001b[0m \u001b[38;5;66;03m# Axial force\u001b[39;00m\n\u001b[1;32m----> 3\u001b[0m K[\u001b[38;5;241m0\u001b[39m, \u001b[38;5;241m0\u001b[39m] \u001b[38;5;241m=\u001b[39m E \u001b[38;5;241m*\u001b[39m A \u001b[38;5;241m/\u001b[39m \u001b[43mh\u001b[49m\n\u001b[0;32m      4\u001b[0m K[\u001b[38;5;241m6\u001b[39m, \u001b[38;5;241m6\u001b[39m] \u001b[38;5;241m=\u001b[39m E \u001b[38;5;241m*\u001b[39m A \u001b[38;5;241m/\u001b[39m h\n\u001b[0;32m      5\u001b[0m K[\u001b[38;5;241m0\u001b[39m, \u001b[38;5;241m6\u001b[39m] \u001b[38;5;241m=\u001b[39m \u001b[38;5;241m-\u001b[39mE \u001b[38;5;241m*\u001b[39m A \u001b[38;5;241m/\u001b[39m h\n",
      "\u001b[1;31mNameError\u001b[0m: name 'h' is not defined"
     ]
    }
   ],
   "source": [
    "K = zeros((nt, nt))\n",
    "# Axial force\n",
    "K[0, 0] = E * A / h\n",
    "K[6, 6] = E * A / h\n",
    "K[0, 6] = -E * A / h\n",
    "K[6, 0] = -E * A / h\n",
    "# Torsion\n",
    "K[3, 3] = G * J / h\n",
    "K[9, 9] = G * J / h\n",
    "K[3, 9] = -G * J / h\n",
    "K[9, 3] = -G * J / h\n",
    "# Bending in xy plane\n",
    "K[1, 1] = 12 * E * Iz / h**3\n",
    "K[7, 7] = 12 * E * Iz / h**3\n",
    "K[1, 7] = -12 * E * Iz / h**3\n",
    "K[7, 1] = -12 * E * Iz / h**3\n",
    "K[1, 5] = 6 * E * Iz / h**2\n",
    "K[5, 1] = 6 * E * Iz / h**2\n",
    "K[1, 11] = 6 * E * Iz / h**2\n",
    "K[11, 1] = 6 * E * Iz / h**2\n",
    "K[5, 5] = 4 * E * Iz / h\n",
    "K[11, 11] = 4 * E * Iz / h\n",
    "K[5, 11] = 2 * E * Iz / h\n",
    "K[11, 5] = 2 * E * Iz / h\n",
    "K[5, 7] = -6 * E * Iz / h**2\n",
    "K[7, 5] = -6 * E * Iz / h**2\n",
    "K[11, 7] = -6 * E * Iz / h**2\n",
    "K[7, 11] = -6 * E * Iz / h**2\n",
    "# Bending in xz plane\n",
    "K[2, 2] = 12 * E * Iy / h**3\n",
    "K[8, 8] = 12 * E * Iy / h**3\n",
    "K[2, 8] = -12 * E * Iy / h**3\n",
    "K[8, 2] = -12 * E * Iy / h**3\n",
    "K[2, 4] = -6 * E * Iy / h**2\n",
    "K[4, 2] = -6 * E * Iy / h**2\n",
    "K[2, 10] = -6 * E * Iy / h**2\n",
    "K[10, 2] = -6 * E * Iy / h**2\n",
    "K[4, 4] = 4 * E * Iy / h\n",
    "K[10, 10] = 4 * E * Iy / h\n",
    "K[4, 10] = 2 * E * Iy / h\n",
    "K[10, 4] = 2 * E * Iy / h\n",
    "K[4, 8] = 6 * E * Iy / h**2\n",
    "K[8, 4] = 6 * E * Iy / h**2\n",
    "K[10, 8] = 6 * E * Iy / h**2\n",
    "K[8, 10] = 6 * E * Iy / h**2"
   ]
  },
  {
   "cell_type": "markdown",
   "id": "e68cd0d5-18f1-4110-91af-5c1e4df363db",
   "metadata": {},
   "source": [
    "At this point the traditional approach constructs the so called transformation matrix $T$, a $12\\times12$ matrix.\n",
    "The matrix for the beam in the general orientation is given by \n",
    "\n",
    "$$\n",
    "K^\\prime = T \\cdot K \\cdot     T^T\n",
    "$$\n",
    "\n",
    "The $T$ consists of $3\\times3$ blocks, which we will construct from the basis vectors, $e_x$, $e_y$, and $e_z$, of the local coordinate system of the beam."
   ]
  },
  {
   "cell_type": "code",
   "execution_count": null,
   "id": "3c37bc6f-ebbe-46a9-8cde-9c0f4d6e8c3b",
   "metadata": {},
   "outputs": [],
   "source": [
    "i, j = m[\"joints\"][connectivity[0]], m[\"joints\"][connectivity[1]]\n",
    "e_x, e_y, e_z, h = pystran.geometry.member_3d_geometry(i, j, xz_vector)"
   ]
  },
  {
   "cell_type": "markdown",
   "id": "8bb45c01-7505-40c5-bda7-8201f35b6ae7",
   "metadata": {},
   "source": [
    "The transformation matrix consists of four blocks $[e_x,e_y,e_z]$ on the diagonal."
   ]
  },
  {
   "cell_type": "code",
   "execution_count": null,
   "id": "0e58c0e3-7731-4080-8204-5636e4da4392",
   "metadata": {},
   "outputs": [],
   "source": [
    "# Transformation matrix\n",
    "T = zeros(K.shape)\n",
    "T[0:3, 0] = e_x\n",
    "T[0:3, 1] = e_y\n",
    "T[0:3, 2] = e_z\n",
    "T[3:6, 3:6] = T[0:3, 0:3]\n",
    "T[6:9, 6:9] = T[0:3, 0:3]\n",
    "T[9:12, 9:12] = T[0:3, 0:3]"
   ]
  },
  {
   "cell_type": "markdown",
   "id": "09f7a097-5ec2-45dc-b705-79fae9af6303",
   "metadata": {},
   "source": [
    "Now we have the transformation matrix, and we can calculate the final form of the beam stiffness matrix transformed into the general orientation."
   ]
  },
  {
   "cell_type": "code",
   "execution_count": null,
   "id": "7dde4210-25dd-4ae4-b7e8-5f027103a482",
   "metadata": {},
   "outputs": [],
   "source": [
    "Kprim = dot(T, dot(K, T.T))"
   ]
  },
  {
   "cell_type": "markdown",
   "id": "955aab7c-3982-423b-bac8-0e7e7611457f",
   "metadata": {},
   "source": [
    "Now we measure the difference between the two matrices. `K1`, calculated using pystran, and `Kprim`, calculated using the formula for the stiffness matrix in a special orientation + the transformation from special to general orientation."
   ]
  },
  {
   "cell_type": "code",
   "execution_count": null,
   "id": "2a9267bf-fc0c-4d51-a85b-9ebf79a3bd03",
   "metadata": {},
   "outputs": [],
   "source": [
    "for r in range(12):\n",
    "    for c in range(12):\n",
    "        if abs(Kprim[r, c] - K1[r, c]) > 1e-12 * (abs(K1[r, c]) + abs(Kprim[r, c])):\n",
    "            print(r, c, Kprim[r, c], K1[r, c])\n",
    "            raise ValueError(\"Stiffness matrix is not correct\")\n",
    "print(\"Stiffness matrix is correct\")"
   ]
  },
  {
   "cell_type": "markdown",
   "id": "cbe19573-5737-4baf-b958-8127837cdb9a",
   "metadata": {},
   "source": [
    "The amount of work to get the stiffness matrix can be approximated as follows.\n",
    "\n",
    "for the pystran implementation, we need one outer product of $6\\times1$ strain-displacement matrices for the axial deformation (36 operations),\n",
    "one outer product of $12\\times1$ strain-displacement matrices for each of two numerical quadrature points  (144 operations)\n",
    "for a bending in the x-z plane, one outer product of $12\\times1$ strain-displacement matrices for each of two numerical quadrature points  (144 operations)\n",
    "for a bending in the x-y plane, and  one outer product of $6\\times1$ strain-displacement matrices for torsion (36 operations). Total: "
   ]
  },
  {
   "cell_type": "code",
   "execution_count": null,
   "id": "d36a2e99-b19a-428f-af3c-fafc3ce7bf30",
   "metadata": {},
   "outputs": [],
   "source": [
    "print(36 + 2*144 + 2*144 + 36)"
   ]
  },
  {
   "cell_type": "markdown",
   "id": "2f87e531-78d3-4f7e-b131-bbfb2cc26be7",
   "metadata": {},
   "source": [
    "For the classical implementation, we need the product $K^\\prime = T \\cdot K \\cdot     T^T$, which means that \n",
    "we need to compute first  $temp = T \\cdot K$ and then $temp \\cdot T^T$. This represents two products of $12\\times12$\n",
    "matrices. For each of these products we need to calculate  $12\\times12$ coefficients of the result, for which we need a dot product \n",
    "of $12\\times1$ vectors. Hence"
   ]
  },
  {
   "cell_type": "code",
   "execution_count": null,
   "id": "48f30359-38b9-480b-a047-2fc0324899e7",
   "metadata": {},
   "outputs": [],
   "source": [
    "print(2 * 12**2 * 12)"
   ]
  },
  {
   "cell_type": "markdown",
   "id": "20ab4e47-a81e-4ba4-92b9-f3ee27f753fd",
   "metadata": {},
   "source": [
    "or approximately five times as many operations. This number can be reduced by taking advantage of the blocked nature of the $T$  matrix (it consists of $3\\times3$ submatrices on the diagonal, otherwise it consists of zeros)"
   ]
  },
  {
   "cell_type": "code",
   "execution_count": null,
   "id": "3a9535e7-af60-4b3d-b9a7-45c5ac07a10f",
   "metadata": {},
   "outputs": [],
   "source": [
    "print(16 * 3**2 * 3 * 2)\n"
   ]
  },
  {
   "cell_type": "code",
   "execution_count": null,
   "id": "01d8e15e-f7c9-4057-a04b-cca52e7722a4",
   "metadata": {},
   "outputs": [],
   "source": []
  }
 ],
 "metadata": {
  "kernelspec": {
   "display_name": "Python 3 (ipykernel)",
   "language": "python",
   "name": "python3"
  },
  "language_info": {
   "codemirror_mode": {
    "name": "ipython",
    "version": 3
   },
   "file_extension": ".py",
   "mimetype": "text/x-python",
   "name": "python",
   "nbconvert_exporter": "python",
   "pygments_lexer": "ipython3",
   "version": "3.13.2"
  }
 },
 "nbformat": 4,
 "nbformat_minor": 5
}
