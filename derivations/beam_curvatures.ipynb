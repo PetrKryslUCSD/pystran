{
 "cells": [
  {
   "cell_type": "markdown",
   "id": "053580c3-606b-4e93-bbe7-cdff99d9a909",
   "metadata": {},
   "source": [
    "# Beam curvatures "
   ]
  },
  {
   "cell_type": "markdown",
   "id": "f27488ba-645c-46eb-9e58-f0172502fbef",
   "metadata": {},
   "source": [
    "In this notebook we aim to derive the expression for the curvature of the beam, when its deflections are described with the basis functions derived earlier.\n",
    "\n",
    "Recall that the deflection $w$ of the beam in the $x-z$ plane is assumed to be described by the expression $w(\\xi)=N_1(\\xi)W_1 + (h/2)N_2(\\xi)W_2 + N_3(\\xi)W_3 + (h/2)N_4(\\xi)W_4=N_1(\\xi)w_1 + (h/2)N_2(\\xi)\\theta_1 + N_3(\\xi)w_2 + (h/2)N_4(\\xi)\\theta_2$.\n",
    "\n",
    "Here the degrees of freedom $W_1=w_1$ (deflection at the left hand side, i.e. at $\\xi=-1$), $W_2=\\theta_1$ (rotation at the left hand side), \n",
    "$W_3=w_2$ (deflection at the right hand side, i.e. at $\\xi=+1$), $W_4=\\theta_2$ (rotation at the right hand side).\n",
    "\n",
    "Further, the bending moment in the beam is expressed as $M(\\xi) = - EI \\partial^2 w(\\xi)/\\partial x^2$.\n",
    "The expression $\\partial^2 w(\\xi)/\\partial x^2$ is referred to as curvature of the curve $w(\\xi)$. \n",
    "\n",
    "Note that the curvature is expressed in terms of the nondimensional parametric coordinate $\\xi$, but we need to take the derivatives with respect to $x$, the physical coordinates along the length of the beam."
   ]
  },
  {
   "cell_type": "code",
   "execution_count": 1,
   "id": "855b919b-fa8f-46b2-9a6d-4c4a149cf589",
   "metadata": {},
   "outputs": [],
   "source": [
    "from sympy import *\n",
    "import matplotlib.pyplot as plt"
   ]
  },
  {
   "cell_type": "code",
   "execution_count": 2,
   "id": "7fa8df3a-66aa-49fb-a9d5-036bbfa3e22f",
   "metadata": {},
   "outputs": [],
   "source": [
    "xi = symbols('xi')\n",
    "a, b, c, d = symbols('a b c d')"
   ]
  },
  {
   "cell_type": "markdown",
   "id": "2617ac1c-3289-4907-b1c6-f1b233f91076",
   "metadata": {},
   "source": [
    "The coefficient matrix `C` that defines the four conditions (deflection and slope at either end of the beam), and the vector of their unknown coefficients $a, b, c$, and $d$ are defined first. The first row corresponds to deflection at $\\xi=-1$, the second to the slope at $\\xi=-1$, and the third and fourth to the deflection and slope at $\\xi=+1$."
   ]
  },
  {
   "cell_type": "code",
   "execution_count": 3,
   "id": "b481f2a7-1532-40a2-8fa5-36729a5f46bb",
   "metadata": {},
   "outputs": [],
   "source": [
    "C = Matrix([\n",
    "    [1, -1, 1, -1], \n",
    "    [0, 1, -2, 3],\n",
    "    [1, 1, 1, 1],\n",
    "    [0, 1, 2, 3]\n",
    "])\n",
    "abcd = Matrix([[a], [b], [c], [d]])"
   ]
  },
  {
   "cell_type": "markdown",
   "id": "b38f3550-c7c0-471c-b3d0-95b0819b0e79",
   "metadata": {},
   "source": [
    "Previously we have shown that the first basis function results from this equality:"
   ]
  },
  {
   "cell_type": "code",
   "execution_count": 4,
   "id": "993eb0ba-0277-4b43-8faa-cab6ee84e0f9",
   "metadata": {},
   "outputs": [
    {
     "name": "stdout",
     "output_type": "stream",
     "text": [
      "xi**3/4 - 3*xi/4 + 1/2\n"
     ]
    }
   ],
   "source": [
    "sol = solve(Eq(C * abcd, Matrix([[1], [0], [0], [0]])))\n",
    "N1 = sum(coeff*xi**j for j, coeff in enumerate(sol.values()))\n",
    "print(N1)"
   ]
  },
  {
   "cell_type": "markdown",
   "id": "eb834741-b38a-4b34-92e1-853c4d0aa5bc",
   "metadata": {},
   "source": [
    "The second basis function results from"
   ]
  },
  {
   "cell_type": "code",
   "execution_count": 5,
   "id": "0331ddb2-e3ea-485c-ac41-49e660df8200",
   "metadata": {},
   "outputs": [
    {
     "name": "stdout",
     "output_type": "stream",
     "text": [
      "-xi**3/4 + xi**2/4 + xi/4 - 1/4\n"
     ]
    }
   ],
   "source": [
    "sol = solve(Eq(C * abcd, Matrix([[0], [-1], [0], [0]])))\n",
    "N2 = sum(coeff*xi**j for j, coeff in enumerate(sol.values()))\n",
    "print(N2)\n"
   ]
  },
  {
   "cell_type": "markdown",
   "id": "c6454dd3-de33-43ec-b877-72be3e090453",
   "metadata": {},
   "source": [
    "The third basis function follows from the deflection at $\\xi=+1$"
   ]
  },
  {
   "cell_type": "code",
   "execution_count": 6,
   "id": "8855ba9b-946a-45bb-81ee-ce8c7c7d92d5",
   "metadata": {},
   "outputs": [
    {
     "name": "stdout",
     "output_type": "stream",
     "text": [
      "-xi**3/4 + 3*xi/4 + 1/2\n"
     ]
    }
   ],
   "source": [
    "sol = solve(Eq(C * abcd, Matrix([[0], [0], [+1], [0]])))\n",
    "N3 = sum(coeff*xi**j for j, coeff in enumerate(sol.values()))\n",
    "print(N3)"
   ]
  },
  {
   "cell_type": "markdown",
   "id": "26dd1dad-33c9-44b1-ade8-859c02504493",
   "metadata": {},
   "source": [
    "and, finally, the fourth basis function is"
   ]
  },
  {
   "cell_type": "code",
   "execution_count": 7,
   "id": "af05621d-971f-4aee-a458-91e0e68d9a06",
   "metadata": {},
   "outputs": [
    {
     "name": "stdout",
     "output_type": "stream",
     "text": [
      "-xi**3/4 - xi**2/4 + xi/4 + 1/4\n"
     ]
    }
   ],
   "source": [
    "sol = solve(Eq(C * abcd, Matrix([[0], [0], [0], [-1]])))\n",
    "N4 = sum(coeff*xi**j for j, coeff in enumerate(sol.values()))\n",
    "print(N4)"
   ]
  },
  {
   "cell_type": "markdown",
   "id": "c6a67d5f-357e-4078-98ad-22334bfde021",
   "metadata": {},
   "source": [
    "The mapping between the physical coordinate $x$ (the beam extends between $0$ and $h$, where $h$ is the length of the beam) and the parametric coordinate $-1\\le\\xi\\le+1$ can be set up as $x = (\\xi+1)/2\\times h$. The jacobian $J=\\partial x/\\partial \\xi=h/2$ can be used to link derivatives of the  shape functions with respect to the physical coordinate to the derivatives with respect to the parametric coordinate\n",
    "\n",
    "$$\n",
    "\\partial N_k(\\xi)/ \\partial x=\\partial N_k(\\xi) / \\partial \\xi \\times (J)^{-1} = (2/h) \\partial N_k(\\xi) / \\partial \\xi\n",
    "$$\n",
    "\n",
    "This may be continued with a second derivative\n",
    "\n",
    "$$\n",
    "\\partial N^2_k(\\xi)/ \\partial x^2=\\partial N^2_k(\\xi) / \\partial \\xi^2 \\times (J)^{-2} = (2/h)^2 \\partial N^2_k(\\xi) / \\partial \\xi^2\n",
    "$$\n"
   ]
  },
  {
   "cell_type": "markdown",
   "id": "c81f57a9-35e3-4d70-afbb-67623ae46855",
   "metadata": {},
   "source": [
    "So now we can take what we have learned above and symbolically compute the second derivatives of all four basis functions."
   ]
  },
  {
   "cell_type": "code",
   "execution_count": 8,
   "id": "5fbb3fbb-e6d8-4630-a725-546d5f792567",
   "metadata": {},
   "outputs": [],
   "source": [
    "h = symbols('h')"
   ]
  },
  {
   "cell_type": "markdown",
   "id": "2e65c94d-770a-48b9-b435-cd8a767580e5",
   "metadata": {},
   "source": [
    "So for instance the second derivative of the first basis function with respect to $x$ reads"
   ]
  },
  {
   "cell_type": "code",
   "execution_count": 9,
   "id": "550e10fd-39f6-409c-9557-a3e7d1b4eb2c",
   "metadata": {},
   "outputs": [
    {
     "name": "stdout",
     "output_type": "stream",
     "text": [
      "d2N1x2 =  6*xi/h**2\n"
     ]
    }
   ],
   "source": [
    "d2N1x2 = diff(N1, xi, 2) * (2/h)**2\n",
    "print('d2N1x2 = ', d2N1x2)"
   ]
  },
  {
   "cell_type": "markdown",
   "id": "0ff65234-0c2a-499b-a2ba-fa51c4dc060e",
   "metadata": {},
   "source": [
    "and therefore"
   ]
  },
  {
   "cell_type": "code",
   "execution_count": 10,
   "id": "ae299b3c-7426-43b6-8545-20f0e71b5756",
   "metadata": {},
   "outputs": [
    {
     "name": "stdout",
     "output_type": "stream",
     "text": [
      "d2N2x2 =  2*(1 - 3*xi)/h**2\n",
      "d2N3x2 =  -6*xi/h**2\n",
      "d2N4x2 =  -2*(3*xi + 1)/h**2\n"
     ]
    }
   ],
   "source": [
    "d2N2x2 = diff(N2, xi, 2) * (2/h)**2\n",
    "print('d2N2x2 = ', d2N2x2)\n",
    "d2N3x2 = diff(N3, xi, 2) * (2/h)**2\n",
    "print('d2N3x2 = ', d2N3x2)\n",
    "d2N4x2 = diff(N4, xi, 2) * (2/h)**2\n",
    "print('d2N4x2 = ', d2N4x2)"
   ]
  },
  {
   "cell_type": "markdown",
   "id": "0f77e15e-d2fb-410a-bab5-1ff53945dff5",
   "metadata": {},
   "source": [
    "Note that all the second derivatives (curvatures) are linear functions of the position along the length of the beam. This is consistent with our expectation that the beam will vary linearly from one end to the other."
   ]
  },
  {
   "cell_type": "markdown",
   "id": "6d2aac3f-d92c-4dde-8106-be430c328fce",
   "metadata": {},
   "source": [
    "The curvature of the beam is a fundamental quantity. It depends linearly on the degrees of freedom $W_k$. Such a relationship can be expressed with a matrix expression. The crucial matrix is the curvature-displacement matrix, $B$:"
   ]
  },
  {
   "cell_type": "code",
   "execution_count": 11,
   "id": "87ca7964-0e8b-4b55-a6a6-925eff3c6f13",
   "metadata": {},
   "outputs": [
    {
     "name": "stdout",
     "output_type": "stream",
     "text": [
      "Matrix([[6*xi/h**2, (1 - 3*xi)/h, -6*xi/h**2, -(3*xi + 1)/h]])\n"
     ]
    }
   ],
   "source": [
    "B = Matrix([d2N1x2, (h/2) * d2N2x2, d2N3x2, (h/2) * d2N4x2]).reshape(1, 4)\n",
    "print(B)"
   ]
  }
 ],
 "metadata": {
  "kernelspec": {
   "display_name": "Python 3 (ipykernel)",
   "language": "python",
   "name": "python3"
  },
  "language_info": {
   "codemirror_mode": {
    "name": "ipython",
    "version": 3
   },
   "file_extension": ".py",
   "mimetype": "text/x-python",
   "name": "python",
   "nbconvert_exporter": "python",
   "pygments_lexer": "ipython3",
   "version": "3.13.2"
  }
 },
 "nbformat": 4,
 "nbformat_minor": 5
}
