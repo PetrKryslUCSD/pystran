{
 "cells": [
  {
   "cell_type": "markdown",
   "id": "053580c3-606b-4e93-bbe7-cdff99d9a909",
   "metadata": {},
   "source": [
    "# Beam curvatures and stiffness matrix"
   ]
  },
  {
   "cell_type": "code",
   "execution_count": 43,
   "id": "855b919b-fa8f-46b2-9a6d-4c4a149cf589",
   "metadata": {},
   "outputs": [],
   "source": [
    "from sympy import *\n",
    "import matplotlib.pyplot as plt"
   ]
  },
  {
   "cell_type": "code",
   "execution_count": 44,
   "id": "7fa8df3a-66aa-49fb-a9d5-036bbfa3e22f",
   "metadata": {},
   "outputs": [],
   "source": [
    "xi = symbols('xi')\n",
    "a, b, c, d = symbols('a b c d')"
   ]
  },
  {
   "cell_type": "code",
   "execution_count": 45,
   "id": "b481f2a7-1532-40a2-8fa5-36729a5f46bb",
   "metadata": {},
   "outputs": [],
   "source": [
    "M = Matrix([\n",
    "    [1, -1, 1, -1],\n",
    "    [0, 1, -2, 3],\n",
    "    [1, 1, 1, 1],\n",
    "    [0, 1, 2, 3]\n",
    "])\n",
    "abcd = Matrix([[a], [b], [c], [d]])"
   ]
  },
  {
   "cell_type": "code",
   "execution_count": 46,
   "id": "993eb0ba-0277-4b43-8faa-cab6ee84e0f9",
   "metadata": {},
   "outputs": [
    {
     "name": "stdout",
     "output_type": "stream",
     "text": [
      "xi**3/4 - 3*xi/4 + 1/2\n"
     ]
    }
   ],
   "source": [
    "sol = solve(Eq(M * abcd, Matrix([[1], [0], [0], [0]])))\n",
    "N1 = sum(coeff*xi**j for j, coeff in enumerate(sol.values()))\n",
    "print(N1)"
   ]
  },
  {
   "cell_type": "code",
   "execution_count": 47,
   "id": "0331ddb2-e3ea-485c-ac41-49e660df8200",
   "metadata": {},
   "outputs": [
    {
     "name": "stdout",
     "output_type": "stream",
     "text": [
      "-xi**3/4 + xi**2/4 + xi/4 - 1/4\n"
     ]
    }
   ],
   "source": [
    "sol = solve(Eq(M * abcd, Matrix([[0], [-1], [0], [0]])))\n",
    "N2 = sum(coeff*xi**j for j, coeff in enumerate(sol.values()))\n",
    "print(N2)\n"
   ]
  },
  {
   "cell_type": "code",
   "execution_count": 48,
   "id": "8855ba9b-946a-45bb-81ee-ce8c7c7d92d5",
   "metadata": {},
   "outputs": [
    {
     "name": "stdout",
     "output_type": "stream",
     "text": [
      "-xi**3/4 + 3*xi/4 + 1/2\n"
     ]
    }
   ],
   "source": [
    "sol = solve(Eq(M * abcd, Matrix([[0], [0], [+1], [0]])))\n",
    "N3 = sum(coeff*xi**j for j, coeff in enumerate(sol.values()))\n",
    "print(N3)"
   ]
  },
  {
   "cell_type": "code",
   "execution_count": 49,
   "id": "af05621d-971f-4aee-a458-91e0e68d9a06",
   "metadata": {},
   "outputs": [
    {
     "name": "stdout",
     "output_type": "stream",
     "text": [
      "-xi**3/4 - xi**2/4 + xi/4 + 1/4\n"
     ]
    }
   ],
   "source": [
    "sol = solve(Eq(M * abcd, Matrix([[0], [0], [0], [-1]])))\n",
    "N4 = sum(coeff*xi**j for j, coeff in enumerate(sol.values()))\n",
    "print(N4)"
   ]
  },
  {
   "cell_type": "code",
   "execution_count": 50,
   "id": "5fbb3fbb-e6d8-4630-a725-546d5f792567",
   "metadata": {},
   "outputs": [],
   "source": [
    "W1, W2, W3, W4 = symbols('W1, W2, W3, W4')\n",
    "h = symbols('h')"
   ]
  },
  {
   "cell_type": "code",
   "execution_count": 51,
   "id": "0f17478f-836a-455f-8bfe-a0fca0ec2c02",
   "metadata": {},
   "outputs": [],
   "source": [
    "d2N1x2 = diff(N1, xi, 2) * (2/h)**2\n",
    "d2N2x2 = diff(N2, xi, 2) * (2/h)**2\n",
    "d2N3x2 = diff(N3, xi, 2) * (2/h)**2\n",
    "d2N4x2 = diff(N4, xi, 2) * (2/h)**2"
   ]
  },
  {
   "cell_type": "code",
   "execution_count": 53,
   "id": "87ca7964-0e8b-4b55-a6a6-925eff3c6f13",
   "metadata": {},
   "outputs": [
    {
     "name": "stdout",
     "output_type": "stream",
     "text": [
      "Matrix([[6*xi/h**2, (1 - 3*xi)/h, -6*xi/h**2, -(3*xi + 1)/h]])\n"
     ]
    }
   ],
   "source": [
    "B = Matrix([d2N1x2, (h/2) * d2N2x2, d2N3x2, (h/2) * d2N4x2]).reshape(1, 4)\n",
    "print(B)"
   ]
  },
  {
   "cell_type": "code",
   "execution_count": 58,
   "id": "55ac5ca4-0edb-4442-b4f8-8c743fab8b00",
   "metadata": {},
   "outputs": [
    {
     "data": {
      "text/latex": [
       "$\\displaystyle \\left[\\begin{matrix}12 & - 6 h & -12 & - 6 h\\\\- 6 h & 4 h^{2} & 6 h & 2 h^{2}\\\\-12 & 6 h & 12 & 6 h\\\\- 6 h & 2 h^{2} & 6 h & 4 h^{2}\\end{matrix}\\right]$"
      ],
      "text/plain": [
       "Matrix([\n",
       "[  12,   -6*h, -12,   -6*h],\n",
       "[-6*h, 4*h**2, 6*h, 2*h**2],\n",
       "[ -12,    6*h,  12,    6*h],\n",
       "[-6*h, 2*h**2, 6*h, 4*h**2]])"
      ]
     },
     "execution_count": 58,
     "metadata": {},
     "output_type": "execute_result"
    }
   ],
   "source": [
    "(h/2)*integrate(B.T * B, (xi, -1, 1)) * h**3\n"
   ]
  },
  {
   "cell_type": "code",
   "execution_count": 61,
   "id": "b8954a39-eae8-44fe-99f5-be5e1235f43c",
   "metadata": {},
   "outputs": [
    {
     "name": "stdout",
     "output_type": "stream",
     "text": [
      "Matrix([[12/h**3, -6/h**2, -12/h**3, -6/h**2], [-6/h**2, 4/h, 6/h**2, 2/h], [-12/h**3, 6/h**2, 12/h**3, 6/h**2], [-6/h**2, 2/h, 6/h**2, 4/h]])\n"
     ]
    }
   ],
   "source": [
    "xiG = [-1/sqrt(3), 1/sqrt(3)]\n",
    "WG = [1, 1]\n",
    "K = zeros(4, 4)\n",
    "for q in range(2):\n",
    "    B1 = B.subs(xi, xiG[q])\n",
    "    K += B1.T * B1 * WG[q] * (h/2)\n",
    "print(simplify(K))\n",
    "    "
   ]
  }
 ],
 "metadata": {
  "kernelspec": {
   "display_name": "Python 3 (ipykernel)",
   "language": "python",
   "name": "python3"
  },
  "language_info": {
   "codemirror_mode": {
    "name": "ipython",
    "version": 3
   },
   "file_extension": ".py",
   "mimetype": "text/x-python",
   "name": "python",
   "nbconvert_exporter": "python",
   "pygments_lexer": "ipython3",
   "version": "3.13.0"
  }
 },
 "nbformat": 4,
 "nbformat_minor": 5
}
