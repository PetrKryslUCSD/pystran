{
 "cells": [
  {
   "cell_type": "markdown",
   "id": "e305d3a1-ba3e-4f61-9589-6949933ec46d",
   "metadata": {},
   "source": [
    "# Derivation of beam shape functions"
   ]
  },
  {
   "cell_type": "markdown",
   "id": "f4371695-e396-4884-80fe-99c23b97d6f2",
   "metadata": {},
   "source": [
    "In this notebook we aim to derive the cubic  functions that describe the shape of a Bernoulli-Euler beam. The python package `sympy` is used for the symbolic manipulations."
   ]
  },
  {
   "cell_type": "markdown",
   "id": "22e126c2-8501-494d-997c-d58a92163999",
   "metadata": {},
   "source": [
    "The deflection of the beam is here considered in axes $x-z$, where $x$ increases to the right, and $z$ increases downwards. The deflection $w(\\xi)=N_1(\\xi) W_1+(h/2)N_2(\\xi) W_2+N_3(\\xi) W_3+(h/2) N_4(\\xi) W_4$ is positive downwards, along the $z$ axis."
   ]
  },
  {
   "cell_type": "code",
   "execution_count": 1,
   "id": "855b919b-fa8f-46b2-9a6d-4c4a149cf589",
   "metadata": {},
   "outputs": [],
   "source": [
    "from sympy import *\n",
    "import matplotlib.pyplot as plt"
   ]
  },
  {
   "cell_type": "markdown",
   "id": "8a510bb7-30cc-4da6-9b63-d90ebf2d4c06",
   "metadata": {},
   "source": [
    "Each of the four shape functions of a beam will be expressed in the parametric coordinate $\\xi$, as a cubic function $N_k=a_k+b_k \\xi+c_k \\xi^2+d_k\\xi^3$."
   ]
  },
  {
   "cell_type": "code",
   "execution_count": 2,
   "id": "7fa8df3a-66aa-49fb-a9d5-036bbfa3e22f",
   "metadata": {},
   "outputs": [],
   "source": [
    "xi = symbols('xi')\n",
    "a, b, c, d = symbols('a b c d')\n",
    "N = a + b * xi + c * xi**2 + d * xi**3"
   ]
  },
  {
   "cell_type": "markdown",
   "id": "9654545a-54b2-4484-a3dc-067c403b7ef5",
   "metadata": {},
   "source": [
    "The derivatives of these functions may be expressed as"
   ]
  },
  {
   "cell_type": "code",
   "execution_count": 3,
   "id": "345a82a1-f4bf-49ee-a7d4-902877a3201f",
   "metadata": {},
   "outputs": [
    {
     "name": "stdout",
     "output_type": "stream",
     "text": [
      "b + 2*c*xi + 3*d*xi**2\n",
      "2*(c + 3*d*xi)\n",
      "6*d\n"
     ]
    }
   ],
   "source": [
    "dNdxi = diff(N, xi)\n",
    "d2Ndxi2 = diff(N, xi, 2)\n",
    "d3Ndxi3 = diff(N, xi, 3)\n",
    "print(dNdxi)\n",
    "print(d2Ndxi2)\n",
    "print(d3Ndxi3)"
   ]
  },
  {
   "cell_type": "markdown",
   "id": "f2f2a813-574e-45d0-bcde-38026f46a306",
   "metadata": {},
   "source": [
    "The four coefficients for each of the four shape functions may be computed from four conditions: these conditions are the value and slope of the shape function at either end of the interval $-1\\le \\xi \\le +1$. For instance, the first shape function, $N_1$, should have a value of +1 at $\\xi=-1$. So the polynomial expression proposed above evaluated at  $\\xi=-1$ reads"
   ]
  },
  {
   "cell_type": "code",
   "execution_count": 4,
   "id": "8eb6cc6c-2e00-4361-8e2c-08b8b9066e8e",
   "metadata": {},
   "outputs": [
    {
     "data": {
      "text/latex": [
       "$\\displaystyle a - b + c - d$"
      ],
      "text/plain": [
       "a - b + c - d"
      ]
     },
     "execution_count": 4,
     "metadata": {},
     "output_type": "execute_result"
    }
   ],
   "source": [
    "N.subs(xi, -1)"
   ]
  },
  {
   "cell_type": "markdown",
   "id": "4fb7c641-1021-4799-a31d-c2f9bf00f027",
   "metadata": {},
   "source": [
    "and should be equal to 1. Further, the slope at $\\xi=-1$ and the value and the slope at $\\xi=+1$ should all be zero."
   ]
  },
  {
   "cell_type": "code",
   "execution_count": 5,
   "id": "5a6d3435-93a2-4395-b0b1-0a6098d48c82",
   "metadata": {},
   "outputs": [
    {
     "data": {
      "text/latex": [
       "$\\displaystyle b - 2 c + 3 d$"
      ],
      "text/plain": [
       "b - 2*c + 3*d"
      ]
     },
     "execution_count": 5,
     "metadata": {},
     "output_type": "execute_result"
    }
   ],
   "source": [
    "dNdxi.subs(xi, -1)"
   ]
  },
  {
   "cell_type": "code",
   "execution_count": 6,
   "id": "24606c5d-176d-4d25-9c94-68549554ad64",
   "metadata": {},
   "outputs": [
    {
     "data": {
      "text/latex": [
       "$\\displaystyle a + b + c + d$"
      ],
      "text/plain": [
       "a + b + c + d"
      ]
     },
     "execution_count": 6,
     "metadata": {},
     "output_type": "execute_result"
    }
   ],
   "source": [
    "N.subs(xi, +1)"
   ]
  },
  {
   "cell_type": "code",
   "execution_count": 7,
   "id": "7ab505ef-4793-4baa-8b3d-a747ba17b071",
   "metadata": {},
   "outputs": [
    {
     "data": {
      "text/latex": [
       "$\\displaystyle b + 2 c + 3 d$"
      ],
      "text/plain": [
       "b + 2*c + 3*d"
      ]
     },
     "execution_count": 7,
     "metadata": {},
     "output_type": "execute_result"
    }
   ],
   "source": [
    "dNdxi.subs(xi, +1)"
   ]
  },
  {
   "cell_type": "markdown",
   "id": "c1f9689f-67b0-41a8-9d2e-906b64069db0",
   "metadata": {},
   "source": [
    "Thus we have these four equations\n",
    "$$\n",
    "\\begin{array}{l}\n",
    "a-b+c-d=1 \\\\\n",
    "b-2c+3d=0 \\\\\n",
    "a+b+c+d=0 \\\\\n",
    "b+2c+3d=0\n",
    "\\end{array}\n",
    "$$\n",
    "and we can solve them for the coefficients $a, b, c, d$.\n",
    "\n",
    "This very same system of equations may be written as a matrix expression defining the coefficient matrix `C` and the vector of the unknown coefficient `abcd`."
   ]
  },
  {
   "cell_type": "code",
   "execution_count": 8,
   "id": "b481f2a7-1532-40a2-8fa5-36729a5f46bb",
   "metadata": {},
   "outputs": [],
   "source": [
    "C = Matrix([\n",
    "    [1, -1, 1, -1],\n",
    "    [0, 1, -2, 3],\n",
    "    [1, 1, 1, 1],\n",
    "    [0, 1, 2, 3]\n",
    "])\n",
    "abcd = Matrix([[a], [b], [c], [d]])"
   ]
  },
  {
   "cell_type": "markdown",
   "id": "e051ac2e-873c-4311-a422-fc34fcaee4ef",
   "metadata": {},
   "source": [
    "The equality above may then be written as"
   ]
  },
  {
   "cell_type": "code",
   "execution_count": 9,
   "id": "b0c2994c-c56f-4663-ba19-1942edde11a1",
   "metadata": {},
   "outputs": [
    {
     "data": {
      "text/latex": [
       "$\\displaystyle \\left[\\begin{matrix}a - b + c - d\\\\b - 2 c + 3 d\\\\a + b + c + d\\\\b + 2 c + 3 d\\end{matrix}\\right] = \\left[\\begin{matrix}1\\\\0\\\\0\\\\0\\end{matrix}\\right]$"
      ],
      "text/plain": [
       "Eq(Matrix([\n",
       "[a - b + c - d],\n",
       "[b - 2*c + 3*d],\n",
       "[a + b + c + d],\n",
       "[b + 2*c + 3*d]]), Matrix([\n",
       "[1],\n",
       "[0],\n",
       "[0],\n",
       "[0]]))"
      ]
     },
     "execution_count": 9,
     "metadata": {},
     "output_type": "execute_result"
    }
   ],
   "source": [
    "Eq(C * abcd, Matrix([[1], [0], [0], [0]]))"
   ]
  },
  {
   "cell_type": "markdown",
   "id": "133ddb70-79f1-4419-b448-f4c092f86aa6",
   "metadata": {},
   "source": [
    "and solved for the coefficients as"
   ]
  },
  {
   "cell_type": "code",
   "execution_count": 10,
   "id": "993eb0ba-0277-4b43-8faa-cab6ee84e0f9",
   "metadata": {},
   "outputs": [
    {
     "name": "stdout",
     "output_type": "stream",
     "text": [
      "xi**3/4 - 3*xi/4 + 1/2\n"
     ]
    }
   ],
   "source": [
    "sol = solve(Eq(C * abcd, Matrix([[1], [0], [0], [0]])))\n",
    "N1 = sum(coeff*xi**j for j, coeff in enumerate(sol.values()))\n",
    "print(N1)"
   ]
  },
  {
   "cell_type": "markdown",
   "id": "053aa1bb-fb6b-4688-95c9-f192e2560a22",
   "metadata": {},
   "source": [
    "We see the first shape function follow\n",
    "as $N_1 = (2 - 3\\xi + \\xi^3)/4$."
   ]
  },
  {
   "cell_type": "markdown",
   "id": "98c13daf-1a46-4488-b3ae-4800dc19b8d1",
   "metadata": {},
   "source": [
    "The second shape function should correspond to a positive unit rotation at $\\xi=-1$, and therefore to a negative slope. "
   ]
  },
  {
   "cell_type": "code",
   "execution_count": 11,
   "id": "1bce13f4-f848-45dc-a716-2d7c6a4e1140",
   "metadata": {},
   "outputs": [
    {
     "data": {
      "text/latex": [
       "$\\displaystyle \\left[\\begin{matrix}a - b + c - d\\\\b - 2 c + 3 d\\\\a + b + c + d\\\\b + 2 c + 3 d\\end{matrix}\\right] = \\left[\\begin{matrix}0\\\\-1\\\\0\\\\0\\end{matrix}\\right]$"
      ],
      "text/plain": [
       "Eq(Matrix([\n",
       "[a - b + c - d],\n",
       "[b - 2*c + 3*d],\n",
       "[a + b + c + d],\n",
       "[b + 2*c + 3*d]]), Matrix([\n",
       "[ 0],\n",
       "[-1],\n",
       "[ 0],\n",
       "[ 0]]))"
      ]
     },
     "execution_count": 11,
     "metadata": {},
     "output_type": "execute_result"
    }
   ],
   "source": [
    "Eq(C * abcd, Matrix([[0], [-1], [0], [0]]))"
   ]
  },
  {
   "cell_type": "code",
   "execution_count": 12,
   "id": "0331ddb2-e3ea-485c-ac41-49e660df8200",
   "metadata": {},
   "outputs": [
    {
     "name": "stdout",
     "output_type": "stream",
     "text": [
      "-xi**3/4 + xi**2/4 + xi/4 - 1/4\n"
     ]
    }
   ],
   "source": [
    "sol = solve(Eq(C * abcd, Matrix([[0], [-1], [0], [0]])))\n",
    "N2 = sum(coeff*xi**j for j, coeff in enumerate(sol.values()))\n",
    "print(N2)\n"
   ]
  },
  {
   "cell_type": "markdown",
   "id": "ad91de4a-5953-4163-b070-0525965785ee",
   "metadata": {},
   "source": [
    "The second shape function is therefore $N_2=(-1+\\xi+\\xi^2-\\xi^3)/4$."
   ]
  },
  {
   "cell_type": "markdown",
   "id": "fcbb92c8-0c70-476e-9ca1-fa1daa826daf",
   "metadata": {},
   "source": [
    "The third shape function should have a value of +1 at $\\xi=+1$."
   ]
  },
  {
   "cell_type": "code",
   "execution_count": 13,
   "id": "8855ba9b-946a-45bb-81ee-ce8c7c7d92d5",
   "metadata": {},
   "outputs": [
    {
     "name": "stdout",
     "output_type": "stream",
     "text": [
      "-xi**3/4 + 3*xi/4 + 1/2\n"
     ]
    }
   ],
   "source": [
    "sol = solve(Eq(C * abcd, Matrix([[0], [0], [+1], [0]])))\n",
    "N3 = sum(coeff*xi**j for j, coeff in enumerate(sol.values()))\n",
    "print(N3)"
   ]
  },
  {
   "cell_type": "markdown",
   "id": "002042c0-b72d-4f03-8d2a-bf5a4aa46f3f",
   "metadata": {},
   "source": [
    "Which gives $N_3=(2+3\\xi-\\xi^3)/4$"
   ]
  },
  {
   "cell_type": "markdown",
   "id": "a2a1b8f9-da8c-404b-969d-1f8cd04f71f3",
   "metadata": {},
   "source": [
    "Finally, the fourth shape function should represent rotation at $\\xi=+1$ (and again, the slope is the negative of the rotation)."
   ]
  },
  {
   "cell_type": "code",
   "execution_count": 14,
   "id": "af05621d-971f-4aee-a458-91e0e68d9a06",
   "metadata": {},
   "outputs": [
    {
     "name": "stdout",
     "output_type": "stream",
     "text": [
      "-xi**3/4 - xi**2/4 + xi/4 + 1/4\n"
     ]
    }
   ],
   "source": [
    "sol = solve(Eq(C * abcd, Matrix([[0], [0], [0], [-1]])))\n",
    "N4 = sum(coeff*xi**j for j, coeff in enumerate(sol.values()))\n",
    "print(N4)"
   ]
  },
  {
   "cell_type": "markdown",
   "id": "f4d3aac0-6b60-4ece-b1ff-96923f01ecc9",
   "metadata": {},
   "source": [
    "The fourth shape function is therefore $N_4=(+1+\\xi-\\xi^2-\\xi^3)/4$."
   ]
  },
  {
   "cell_type": "code",
   "execution_count": 15,
   "id": "c7a66f14-6bb1-47ce-a38e-df0ddc422222",
   "metadata": {},
   "outputs": [
    {
     "data": {
      "image/png": "[encoded data removed]",
      "text/plain": [
       "<Figure size 640x480 with 1 Axes>"
      ]
     },
     "metadata": {},
     "output_type": "display_data"
    }
   ],
   "source": [
    "p = plot(xlim=(-1, 1), ylim=(-1, 1), xlabel='$\\\\xi$', ylabel='$-N_k$', legend=True, show=False)\n",
    "p.extend(plot(N1, label='$N_1$', show=False))\n",
    "p.extend(plot(N2, label='$N_2$', show=False))\n",
    "p.extend(plot(N3, label='$N_3$', show=False))\n",
    "p.extend(plot(N4, label='$N_4$', show=False))\n",
    "p.show()\n"
   ]
  }
 ],
 "metadata": {
  "kernelspec": {
   "display_name": "Python 3 (ipykernel)",
   "language": "python",
   "name": "python3"
  },
  "language_info": {
   "codemirror_mode": {
    "name": "ipython",
    "version": 3
   },
   "file_extension": ".py",
   "mimetype": "text/x-python",
   "name": "python",
   "nbconvert_exporter": "python",
   "pygments_lexer": "ipython3",
   "version": "3.13.2"
  }
 },
 "nbformat": 4,
 "nbformat_minor": 5
}
