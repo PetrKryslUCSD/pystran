{
 "cells": [
  {
   "cell_type": "markdown",
   "id": "e305d3a1-ba3e-4f61-9589-6949933ec46d",
   "metadata": {},
   "source": [
    "# Derivation of beam shape functions: Alternative coordinates"
   ]
  },
  {
   "cell_type": "markdown",
   "id": "f4371695-e396-4884-80fe-99c23b97d6f2",
   "metadata": {},
   "source": [
    "In this notebook we aim to derive the cubic  functions that describe the shape of a Bernoulli-Euler beam. The python package `sympy` is used for the symbolic manipulations."
   ]
  },
  {
   "cell_type": "markdown",
   "id": "be622d3e-4786-4912-bb04-2b7190946002",
   "metadata": {},
   "source": [
    "The deflection of the beam is here considered in axes $x-y$, with the deflection $v=N_1 V_1+h N_2 V_2+N_3 V_3+h N_4 V_4$ positive upwards, along the $y$ axis."
   ]
  },
  {
   "cell_type": "code",
   "execution_count": 1,
   "id": "855b919b-fa8f-46b2-9a6d-4c4a149cf589",
   "metadata": {},
   "outputs": [],
   "source": [
    "from sympy import *"
   ]
  },
  {
   "cell_type": "markdown",
   "id": "8a510bb7-30cc-4da6-9b63-d90ebf2d4c06",
   "metadata": {},
   "source": [
    "Each of the four shape functions of a beam will be expressed in the parametric coordinate $\\gamma$, as a cubic function $N_k=a_k+b_k \\gamma+c_k \\gamma^2+d_k\\gamma^3$, where each of the coefficients $a$, ..., $d$ is different for each shape function. Instead of using subscripts or superscripts, we keep the names the same, but each shape function has a set of different values."
   ]
  },
  {
   "cell_type": "code",
   "execution_count": 2,
   "id": "7fa8df3a-66aa-49fb-a9d5-036bbfa3e22f",
   "metadata": {},
   "outputs": [],
   "source": [
    "gamma = symbols('gamma')\n",
    "a, b, c, d = symbols('a b c d')\n",
    "N = a + b * gamma + c * gamma**2 + d * gamma**3"
   ]
  },
  {
   "cell_type": "markdown",
   "id": "9654545a-54b2-4484-a3dc-067c403b7ef5",
   "metadata": {},
   "source": [
    "The derivatives of these functions may be expressed as"
   ]
  },
  {
   "cell_type": "code",
   "execution_count": 3,
   "id": "345a82a1-f4bf-49ee-a7d4-902877a3201f",
   "metadata": {},
   "outputs": [
    {
     "name": "stdout",
     "output_type": "stream",
     "text": [
      "b + 2*c*gamma + 3*d*gamma**2\n",
      "2*(c + 3*d*gamma)\n",
      "6*d\n"
     ]
    }
   ],
   "source": [
    "dNdg = diff(N, gamma)\n",
    "d2Ndg2 = diff(N, gamma, 2)\n",
    "d3Ndg3 = diff(N, gamma, 3)\n",
    "print(dNdg)\n",
    "print(d2Ndg2)\n",
    "print(d3Ndg3)"
   ]
  },
  {
   "cell_type": "markdown",
   "id": "f2f2a813-574e-45d0-bcde-38026f46a306",
   "metadata": {},
   "source": [
    "The four coefficients for each of the four shape functions may be computed from four conditions: these conditions are the value and slope of the shape function at either end of the interval $0\\le \\gamma \\le +1$. For instance, the first shape function, $N_1$, should have a value of +1 at $\\gamma=0$. So the polynomial expression proposed above evaluated at  $\\gamma=0$ reads"
   ]
  },
  {
   "cell_type": "code",
   "execution_count": 4,
   "id": "8eb6cc6c-2e00-4361-8e2c-08b8b9066e8e",
   "metadata": {},
   "outputs": [
    {
     "data": {
      "text/latex": [
       "$\\displaystyle a$"
      ],
      "text/plain": [
       "a"
      ]
     },
     "execution_count": 4,
     "metadata": {},
     "output_type": "execute_result"
    }
   ],
   "source": [
    "N.subs(gamma, 0)"
   ]
  },
  {
   "cell_type": "markdown",
   "id": "4fb7c641-1021-4799-a31d-c2f9bf00f027",
   "metadata": {},
   "source": [
    "and should be equal to 1. Further, the slope at $\\gamma=0$ and the value and the slope at $\\gamma=+1$ should all be zero."
   ]
  },
  {
   "cell_type": "code",
   "execution_count": 5,
   "id": "5a6d3435-93a2-4395-b0b1-0a6098d48c82",
   "metadata": {},
   "outputs": [
    {
     "data": {
      "text/latex": [
       "$\\displaystyle b$"
      ],
      "text/plain": [
       "b"
      ]
     },
     "execution_count": 5,
     "metadata": {},
     "output_type": "execute_result"
    }
   ],
   "source": [
    "dNdg.subs(gamma, 0)"
   ]
  },
  {
   "cell_type": "code",
   "execution_count": 6,
   "id": "24606c5d-176d-4d25-9c94-68549554ad64",
   "metadata": {},
   "outputs": [
    {
     "data": {
      "text/latex": [
       "$\\displaystyle a + b + c + d$"
      ],
      "text/plain": [
       "a + b + c + d"
      ]
     },
     "execution_count": 6,
     "metadata": {},
     "output_type": "execute_result"
    }
   ],
   "source": [
    "N.subs(gamma, +1)"
   ]
  },
  {
   "cell_type": "code",
   "execution_count": 7,
   "id": "7ab505ef-4793-4baa-8b3d-a747ba17b071",
   "metadata": {},
   "outputs": [
    {
     "data": {
      "text/latex": [
       "$\\displaystyle b + 2 c + 3 d$"
      ],
      "text/plain": [
       "b + 2*c + 3*d"
      ]
     },
     "execution_count": 7,
     "metadata": {},
     "output_type": "execute_result"
    }
   ],
   "source": [
    "dNdg.subs(gamma, +1)"
   ]
  },
  {
   "cell_type": "markdown",
   "id": "c1f9689f-67b0-41a8-9d2e-906b64069db0",
   "metadata": {},
   "source": [
    "Thus we have these four equations\n",
    "$$\n",
    "\\begin{array}{l}\n",
    "a=1 \\\\\n",
    "b=0 \\\\\n",
    "a+b+c+d=0 \\\\\n",
    "b+2c+3d=0\n",
    "\\end{array}\n",
    "$$\n",
    "and we can solve them for the coefficients $a, b, c, d$.\n",
    "\n",
    "The system of equations can be written and solved as:"
   ]
  },
  {
   "cell_type": "code",
   "execution_count": 8,
   "id": "01ecfe69-6e42-4775-a506-a28cd4f88f3f",
   "metadata": {},
   "outputs": [
    {
     "name": "stdout",
     "output_type": "stream",
     "text": [
      "{a: 1, b: 0, c: -3, d: 2}\n",
      "N1 =  2*gamma**3 - 3*gamma**2 + 1\n"
     ]
    }
   ],
   "source": [
    "sol = solve([Eq(N.subs(gamma, 0), +1), \n",
    "             Eq(dNdg.subs(gamma, 0), 0), \n",
    "             Eq(N.subs(gamma, 1), 0), \n",
    "             Eq(dNdg.subs(gamma, 1), 0)])\n",
    "print(sol)\n",
    "N1 = sum(coeff*gamma**j for j, coeff in enumerate(sol.values()))\n",
    "print('N1 = ', N1)"
   ]
  },
  {
   "cell_type": "markdown",
   "id": "053aa1bb-fb6b-4688-95c9-f192e2560a22",
   "metadata": {},
   "source": [
    "Hence, the first shape function is written\n",
    "as $N_1 = 2\\gamma^3 - 3\\gamma^2 + 1$."
   ]
  },
  {
   "cell_type": "markdown",
   "id": "98c13daf-1a46-4488-b3ae-4800dc19b8d1",
   "metadata": {},
   "source": [
    "The second shape function should correspond to a positive unit rotation at $\\gamma=0$, and therefore to a positive slope. "
   ]
  },
  {
   "cell_type": "code",
   "execution_count": 9,
   "id": "1bce13f4-f848-45dc-a716-2d7c6a4e1140",
   "metadata": {},
   "outputs": [
    {
     "name": "stdout",
     "output_type": "stream",
     "text": [
      "{a: 0, b: 1, c: -2, d: 1}\n",
      "N2 =  gamma**3 - 2*gamma**2 + gamma\n"
     ]
    }
   ],
   "source": [
    "sol = solve([Eq(N.subs(gamma, 0), 0), \n",
    "             Eq(dNdg.subs(gamma, 0), +1), \n",
    "             Eq(N.subs(gamma, 1), 0), \n",
    "             Eq(dNdg.subs(gamma, 1), 0)])\n",
    "print(sol)\n",
    "N2 = sum(coeff*gamma**j for j, coeff in enumerate(sol.values()))\n",
    "print('N2 = ', N2)"
   ]
  },
  {
   "cell_type": "markdown",
   "id": "ad91de4a-5953-4163-b070-0525965785ee",
   "metadata": {},
   "source": [
    "The second shape function is therefore $N_2=\\gamma^3 - 2\\gamma^2 + \\gamma$."
   ]
  },
  {
   "cell_type": "markdown",
   "id": "fcbb92c8-0c70-476e-9ca1-fa1daa826daf",
   "metadata": {},
   "source": [
    "The third shape function should have a value of +1 at $\\gamma=+1$."
   ]
  },
  {
   "cell_type": "code",
   "execution_count": 10,
   "id": "8855ba9b-946a-45bb-81ee-ce8c7c7d92d5",
   "metadata": {},
   "outputs": [
    {
     "name": "stdout",
     "output_type": "stream",
     "text": [
      "{a: 0, b: 0, c: 3, d: -2}\n",
      "N3 =  -2*gamma**3 + 3*gamma**2\n"
     ]
    }
   ],
   "source": [
    "sol = solve([Eq(N.subs(gamma, 0), 0), \n",
    "             Eq(dNdg.subs(gamma, 0), 0), \n",
    "             Eq(N.subs(gamma, 1), +1), \n",
    "             Eq(dNdg.subs(gamma, 1), 0)])\n",
    "print(sol)\n",
    "N3 = sum(coeff*gamma**j for j, coeff in enumerate(sol.values()))\n",
    "print('N3 = ', N3)"
   ]
  },
  {
   "cell_type": "markdown",
   "id": "002042c0-b72d-4f03-8d2a-bf5a4aa46f3f",
   "metadata": {},
   "source": [
    "Which gives $N_3=-2\\gamma^3 + 3\\gamma^2$"
   ]
  },
  {
   "cell_type": "markdown",
   "id": "a2a1b8f9-da8c-404b-969d-1f8cd04f71f3",
   "metadata": {},
   "source": [
    "Finally, the fourth shape function should represent rotation at $\\gamma=+1$ (and again, the slope is positive)."
   ]
  },
  {
   "cell_type": "code",
   "execution_count": 11,
   "id": "af05621d-971f-4aee-a458-91e0e68d9a06",
   "metadata": {},
   "outputs": [
    {
     "name": "stdout",
     "output_type": "stream",
     "text": [
      "{a: 0, b: 0, c: -1, d: 1}\n",
      "N4 =  gamma**3 - gamma**2\n"
     ]
    }
   ],
   "source": [
    "sol = solve([Eq(N.subs(gamma, 0), 0), \n",
    "             Eq(dNdg.subs(gamma, 0), 0), \n",
    "             Eq(N.subs(gamma, 1), 0), \n",
    "             Eq(dNdg.subs(gamma, 1), +1)])\n",
    "print(sol)\n",
    "N4 = sum(coeff*gamma**j for j, coeff in enumerate(sol.values()))\n",
    "print('N4 = ', N4)"
   ]
  },
  {
   "cell_type": "markdown",
   "id": "f4d3aac0-6b60-4ece-b1ff-96923f01ecc9",
   "metadata": {},
   "source": [
    "The fourth shape function is therefore $N_4=\\gamma^3 - \\gamma^2$."
   ]
  },
  {
   "cell_type": "markdown",
   "id": "366a575d-3199-43d9-accf-d178c2661b8d",
   "metadata": {},
   "source": [
    "Here is a graphical representation of the four shaped functions."
   ]
  },
  {
   "cell_type": "code",
   "execution_count": 12,
   "id": "6685415f-eb87-4d46-8989-2785bec3af6f",
   "metadata": {},
   "outputs": [
    {
     "data": {
      "image/png": "[encoded data removed]",
      "text/plain": [
       "<Figure size 640x480 with 1 Axes>"
      ]
     },
     "metadata": {},
     "output_type": "display_data"
    },
    {
     "data": {
      "text/plain": [
       "<sympy.plotting.backends.matplotlibbackend.matplotlib.MatplotlibBackend at 0x205af2712b0>"
      ]
     },
     "execution_count": 12,
     "metadata": {},
     "output_type": "execute_result"
    }
   ],
   "source": [
    "plot(N1, N2, N3, N4, xlim=(0, 1), ylim=(-0.25, 1), xlabel='$\\\\gamma$', ylabel='$N_k$')"
   ]
  },
  {
   "cell_type": "code",
   "execution_count": null,
   "id": "a7cb8c42-c621-4044-a516-3347d0f80fd7",
   "metadata": {},
   "outputs": [],
   "source": []
  },
  {
   "cell_type": "code",
   "execution_count": null,
   "id": "d77bc83a-28e3-49df-8dbe-f896b2a29fff",
   "metadata": {},
   "outputs": [],
   "source": []
  },
  {
   "cell_type": "code",
   "execution_count": null,
   "id": "37b3540c-319d-40ef-a1d6-304615342263",
   "metadata": {},
   "outputs": [],
   "source": []
  }
 ],
 "metadata": {
  "kernelspec": {
   "display_name": "Python 3 (ipykernel)",
   "language": "python",
   "name": "python3"
  },
  "language_info": {
   "codemirror_mode": {
    "name": "ipython",
    "version": 3
   },
   "file_extension": ".py",
   "mimetype": "text/x-python",
   "name": "python",
   "nbconvert_exporter": "python",
   "pygments_lexer": "ipython3",
   "version": "3.13.2"
  }
 },
 "nbformat": 4,
 "nbformat_minor": 5
}
