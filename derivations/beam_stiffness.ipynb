{
 "cells": [
  {
   "cell_type": "markdown",
   "id": "053580c3-606b-4e93-bbe7-cdff99d9a909",
   "metadata": {},
   "source": [
    "# Beam stiffness matrix"
   ]
  },
  {
   "cell_type": "markdown",
   "id": "f27488ba-645c-46eb-9e58-f0172502fbef",
   "metadata": {},
   "source": [
    "In this notebook we derive the stiffness matrix of the basic beam. We assume that the cross section is uniform: the beam is prismatic."
   ]
  },
  {
   "cell_type": "code",
   "execution_count": null,
   "id": "855b919b-fa8f-46b2-9a6d-4c4a149cf589",
   "metadata": {},
   "outputs": [],
   "source": [
    "from sympy import *\n",
    "import matplotlib.pyplot as plt"
   ]
  },
  {
   "cell_type": "markdown",
   "id": "54d8a6fa-3179-44e4-b026-5267b57dd916",
   "metadata": {},
   "source": [
    "The fundamental  building blocks will be expressions for the cubic (Hermite) basis functions."
   ]
  },
  {
   "cell_type": "code",
   "execution_count": null,
   "id": "7fa8df3a-66aa-49fb-a9d5-036bbfa3e22f",
   "metadata": {},
   "outputs": [],
   "source": [
    "xi = symbols('xi')"
   ]
  },
  {
   "cell_type": "code",
   "execution_count": null,
   "id": "0331ddb2-e3ea-485c-ac41-49e660df8200",
   "metadata": {},
   "outputs": [],
   "source": [
    "N1 = xi**3/4 - 3*xi/4 + 1/2\n",
    "N2 = -xi**3/4 + xi**2/4 + xi/4 - 1/4\n",
    "N3 = -xi**3/4 + 3*xi/4 + 1/2\n",
    "N4 = -xi**3/4 - xi**2/4 + xi/4 + 1/4"
   ]
  },
  {
   "cell_type": "markdown",
   "id": "8787eac2-76a7-479d-8a73-837fec600a8c",
   "metadata": {},
   "source": [
    "The bending moment is given as $M(\\xi) = - EI \\partial^2 w(\\xi)/\\partial x^2$. With the curvature-displacement matrix $B$ and a vector of the degrees of freedom, $W$, where $W_1=w_1$ (deflection at the left hand side, i.e. at $\\xi=-1$), $W_2=\\theta_1$ (rotation at the left hand side), \n",
    "$W_3=w_2$ (deflection at the right hand side, i.e. at $\\xi=+1$), $W_4=\\theta_2$ (rotation at the right hand side), we can write\n",
    "\n",
    "$$\n",
    "M(\\xi) = - EI B(\\xi) W\n",
    "$$\n",
    "\n",
    "Using `sympy` we write"
   ]
  },
  {
   "cell_type": "code",
   "execution_count": null,
   "id": "5fbb3fbb-e6d8-4630-a725-546d5f792567",
   "metadata": {},
   "outputs": [],
   "source": [
    "W_1, W_2, W_3, W_4 = symbols('W_1, W_2, W_3, W_4')\n",
    "W = Matrix([[W_1], [W_2], [W_3], [W_4]])\n",
    "E, I, h = symbols('E, I, h')"
   ]
  },
  {
   "cell_type": "markdown",
   "id": "9983b5f7-8e9d-4eb9-b75c-c52db41766ef",
   "metadata": {},
   "source": [
    "The curvature-displacement matrix $B$ is constructed from the second derivatives of the basis functions with respect to $x$, "
   ]
  },
  {
   "cell_type": "code",
   "execution_count": null,
   "id": "0f17478f-836a-455f-8bfe-a0fca0ec2c02",
   "metadata": {},
   "outputs": [],
   "source": [
    "d2N1x2 = diff(N1, xi, 2) * (2/h)**2\n",
    "d2N2x2 = diff(N2, xi, 2) * (2/h)**2\n",
    "d2N3x2 = diff(N3, xi, 2) * (2/h)**2\n",
    "d2N4x2 = diff(N4, xi, 2) * (2/h)**2"
   ]
  },
  {
   "cell_type": "markdown",
   "id": "cb0b405e-cdf7-4e3f-a907-0236c8211e57",
   "metadata": {},
   "source": [
    "as"
   ]
  },
  {
   "cell_type": "code",
   "execution_count": null,
   "id": "87ca7964-0e8b-4b55-a6a6-925eff3c6f13",
   "metadata": {},
   "outputs": [],
   "source": [
    "B = Matrix([d2N1x2, (h/2) * d2N2x2, d2N3x2, (h/2) * d2N4x2]).reshape(1, 4)\n",
    "print(B)"
   ]
  },
  {
   "cell_type": "markdown",
   "id": "9cda80dd-6777-40f3-8098-7d67b430a60d",
   "metadata": {},
   "source": [
    "So now we can define symbolically an expression for the bending moment (`(B * W)` is a $1\\times1$ matrix, and by subscripting with `[0]` we make it into a scalar):"
   ]
  },
  {
   "cell_type": "code",
   "execution_count": null,
   "id": "535695e6-b72b-429f-ad3c-a86a0b086fb9",
   "metadata": {},
   "outputs": [],
   "source": [
    "M = - E * I * (B * W)[0]\n",
    "print('M = ', M)\n"
   ]
  },
  {
   "cell_type": "markdown",
   "id": "bfd2fffe-86f7-4ba4-9c84-c4607f191e46",
   "metadata": {},
   "source": [
    "Note that the bending moment along the beam varies linearly as a function of $\\xi$, and depends linearly on $W_1, ..., W_4$. "
   ]
  },
  {
   "cell_type": "markdown",
   "id": "33b2a906-a045-4ee7-b486-681322ebb092",
   "metadata": {},
   "source": [
    "We are looking for the stiffness matrix of the beam, namely  the matrix $K$ that gives the forces acting on the endpoints of the beam $F$ in terms of the displacements $W$ (well, generalized displacements, really, since they include translations and rotations). So\n",
    "\n",
    "$$\n",
    "F = K \\times W\n",
    "$$"
   ]
  },
  {
   "cell_type": "markdown",
   "id": "9e1a69be-a22c-40aa-a1bf-c221975eed7c",
   "metadata": {},
   "source": [
    "We can obtain the entries of the stiffness matrix using Castigliano's theorem. First we express the strain energy stored in the beam as\n",
    "\n",
    "$$\n",
    "U  = (1/2) \\int_0^h M^2/(EI) dx = 1/(2EI) \\int_{-1}^{+1} M^2 d\\xi (h/2) = h/(4EI)\\int_{-1}^{+1} M^2 d\\xi\n",
    "$$\n",
    "\n",
    "where we can symbolically evaluate the necessary integral as"
   ]
  },
  {
   "cell_type": "code",
   "execution_count": null,
   "id": "5add4e03-fd24-4d0b-8954-382fdb81a7e8",
   "metadata": {},
   "outputs": [],
   "source": [
    "U = h/(4*E*I) * integrate(M**2, (xi, -1, +1))\n",
    "print(simplify(U))"
   ]
  },
  {
   "cell_type": "markdown",
   "id": "cbe91824-7e30-4585-89fb-a6ab07885005",
   "metadata": {},
   "source": [
    "Now the partial derivative of the strain energy  $U$ with respect to the first degree of freedom $W_1$ will reveal the work-conjugate generalized force,  namely the shear force that works on the first degree of freedom (vertical displacement at the left hand side end)"
   ]
  },
  {
   "cell_type": "code",
   "execution_count": null,
   "id": "2e9e8137-676d-4907-b8a5-e9b6ef28eb3a",
   "metadata": {},
   "outputs": [],
   "source": [
    "print(simplify(diff(U, W_1)))"
   ]
  },
  {
   "cell_type": "markdown",
   "id": "0e60fd1b-9134-488f-bb8f-9ed2f71572aa",
   "metadata": {},
   "source": [
    "This is actually the first row of the $4\\times4$ stiffness matrix multiplied by the degrees of freedom. The first row of the stiffness matrix can therefore be written as\n",
    "\n",
    "$$\n",
    "[12 EI/h^3, -6EI/h^2, -12 EI/h^3, -6EI/h^2]\n",
    "$$\n",
    "\n",
    "And similarly the second row follows as"
   ]
  },
  {
   "cell_type": "code",
   "execution_count": null,
   "id": "4c236bf1-65a0-4c2e-8ac0-e0d736f90dc4",
   "metadata": {},
   "outputs": [],
   "source": [
    "print(simplify(diff(U, W_2)))"
   ]
  },
  {
   "cell_type": "markdown",
   "id": "537cd006-8935-4df9-aa74-16c7b36ec913",
   "metadata": {},
   "source": [
    "The remaining two rows follow from"
   ]
  },
  {
   "cell_type": "code",
   "execution_count": null,
   "id": "d3d1d937-46e5-40e1-8348-f61212bb889f",
   "metadata": {},
   "outputs": [],
   "source": [
    "print(simplify(diff(U, W_3)))\n",
    "print(simplify(diff(U, W_4)))"
   ]
  },
  {
   "cell_type": "markdown",
   "id": "d3428af2-3bb9-473e-ba54-79d9c2965214",
   "metadata": {},
   "source": [
    "The weighted residual method (the method of choice in the book) states that the stiffness matrix can be obtained as\n",
    "\n",
    "$$\n",
    "K = EI \\int_{-1}^{+1} B^T B \\; d\\xi\\; (h/2)\n",
    "$$"
   ]
  },
  {
   "cell_type": "markdown",
   "id": "34935ff1-c5bd-49f8-b593-abf47f59e6d4",
   "metadata": {},
   "source": [
    "The symbolic code below does precisely this."
   ]
  },
  {
   "cell_type": "code",
   "execution_count": null,
   "id": "55ac5ca4-0edb-4442-b4f8-8c743fab8b00",
   "metadata": {},
   "outputs": [],
   "source": [
    "K = E * I * integrate(B.T * B, (xi, -1, 1)) * (h/2) \n",
    "print(K)"
   ]
  },
  {
   "cell_type": "markdown",
   "id": "d2ce8bff-6f7a-439b-bfaf-71753bb38b47",
   "metadata": {},
   "source": [
    "Note that the matrix `K` is symmetric"
   ]
  },
  {
   "cell_type": "code",
   "execution_count": null,
   "id": "7aed5f4f-5e49-4763-aa66-7d1e0cd4981e",
   "metadata": {},
   "outputs": [],
   "source": [
    "K - K.T"
   ]
  },
  {
   "cell_type": "markdown",
   "id": "7b100830-7f64-42fc-adbb-3790050d4a6c",
   "metadata": {},
   "source": [
    "We can finally show that the same result for the stiffness matrix can be obtained with numerical integration. Here we use a two-point Gauss rule, which should be \"exact\", since the integrand is only a quadratic function of $\\xi$. `B1` is a numerical matrix obtained by substituting $\\xi$ into the symbolic expression for $B$."
   ]
  },
  {
   "cell_type": "code",
   "execution_count": null,
   "id": "b8954a39-eae8-44fe-99f5-be5e1235f43c",
   "metadata": {},
   "outputs": [],
   "source": [
    "xiG = [-1/sqrt(3), 1/sqrt(3)]\n",
    "WG = [1, 1]\n",
    "K = zeros(4, 4)\n",
    "for q in range(2):\n",
    "    B1 = B.subs(xi, xiG[q])\n",
    "    K += E * I * B1.T * B1 * WG[q] * (h/2)\n",
    "print(simplify(K))\n",
    "    "
   ]
  },
  {
   "cell_type": "markdown",
   "id": "f2dec34b-5406-4398-a168-d0079b75dd81",
   "metadata": {},
   "source": [
    "It is also possible to go backwards at this point: express the strain energy $U$ using the matrix quantities as $(1/2)W^TKW$. We should get the same expression for $U$ as above."
   ]
  },
  {
   "cell_type": "code",
   "execution_count": null,
   "id": "b02add2b-ad83-405f-8c69-f197510ada6f",
   "metadata": {},
   "outputs": [],
   "source": [
    "simplify(U - (1/2) * (W.T * K * W)[0])"
   ]
  },
  {
   "cell_type": "markdown",
   "id": "1231014a-50b5-4485-bdab-13feef39c317",
   "metadata": {},
   "source": [
    "Note that we had to write `(W.T * K * W)[0]`, because `(W.T * K * W)` is a $1\\times1$ matrix, and therefore we cannot subtract it from the scalar $U$."
   ]
  },
  {
   "cell_type": "markdown",
   "id": "ff09e90d-2f84-4637-a983-53819ecd56c7",
   "metadata": {},
   "source": [
    "We also note here that the coefficients of the stiffness matrix can be obtained as second derivatives of the strain function. For instance\n",
    "\n",
    "$$\n",
    "\\frac{\\partial^2 U}{\\partial W_1 \\partial W_2}\n",
    "$$\n",
    "\n",
    "yields\n"
   ]
  },
  {
   "cell_type": "code",
   "execution_count": null,
   "id": "7f074cd1-f810-4428-b6a5-97f982f97c31",
   "metadata": {},
   "outputs": [],
   "source": [
    "diff(diff(U, W_1), W_2)"
   ]
  },
  {
   "cell_type": "markdown",
   "id": "c7fbe424-095a-48a3-8343-8b6325a21936",
   "metadata": {},
   "source": [
    "We should have gotten $K_{12}$:"
   ]
  },
  {
   "cell_type": "code",
   "execution_count": null,
   "id": "09d3d2d7-5b49-4cb3-a102-4caae0c50213",
   "metadata": {},
   "outputs": [],
   "source": [
    "simplify(K[0, 1])"
   ]
  }
 ],
 "metadata": {
  "kernelspec": {
   "display_name": "Python 3 (ipykernel)",
   "language": "python",
   "name": "python3"
  },
  "language_info": {
   "codemirror_mode": {
    "name": "ipython",
    "version": 3
   },
   "file_extension": ".py",
   "mimetype": "text/x-python",
   "name": "python",
   "nbconvert_exporter": "python",
   "pygments_lexer": "ipython3",
   "version": "3.13.2"
  }
 },
 "nbformat": 4,
 "nbformat_minor": 5
}
