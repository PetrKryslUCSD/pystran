{
 "cells": [
  {
   "cell_type": "markdown",
   "id": "053580c3-606b-4e93-bbe7-cdff99d9a909",
   "metadata": {},
   "source": [
    "# Beam stiffness matrix"
   ]
  },
  {
   "cell_type": "markdown",
   "id": "f27488ba-645c-46eb-9e58-f0172502fbef",
   "metadata": {},
   "source": [
    "In this notebook "
   ]
  },
  {
   "cell_type": "code",
   "execution_count": 119,
   "id": "855b919b-fa8f-46b2-9a6d-4c4a149cf589",
   "metadata": {},
   "outputs": [],
   "source": [
    "from sympy import *\n",
    "import matplotlib.pyplot as plt"
   ]
  },
  {
   "cell_type": "code",
   "execution_count": 120,
   "id": "7fa8df3a-66aa-49fb-a9d5-036bbfa3e22f",
   "metadata": {},
   "outputs": [],
   "source": [
    "xi = symbols('xi')"
   ]
  },
  {
   "cell_type": "code",
   "execution_count": 121,
   "id": "0331ddb2-e3ea-485c-ac41-49e660df8200",
   "metadata": {},
   "outputs": [],
   "source": [
    "N1 = xi**3/4 - 3*xi/4 + 1/2\n",
    "N2 = -xi**3/4 + xi**2/4 + xi/4 - 1/4\n",
    "N3 = -xi**3/4 + 3*xi/4 + 1/2\n",
    "N4 = -xi**3/4 - xi**2/4 + xi/4 + 1/4"
   ]
  },
  {
   "cell_type": "markdown",
   "id": "8787eac2-76a7-479d-8a73-837fec600a8c",
   "metadata": {},
   "source": [
    "The bending moment is given as $M(\\xi) = - EI \\partial^2 w(\\xi)/\\partial x^2$. With the curvature-displacement matrix $B$ and a vector of the degrees of freedom, $W$, where $W_1=w_1$ (deflection at the left hand side, i.e. at $\\xi=-1$), $W_2=\\theta_1$ (rotation at the left hand side), \n",
    "$W_3=w_2$ (deflection at the right hand side, i.e. at $\\xi=+1$), $W_4=\\theta_2$ (rotation at the right hand side), we can write\n",
    "\n",
    "$$\n",
    "M(\\xi) = - EI B W\n",
    "$$\n",
    "\n",
    "Using `sympy` we write"
   ]
  },
  {
   "cell_type": "code",
   "execution_count": 122,
   "id": "5fbb3fbb-e6d8-4630-a725-546d5f792567",
   "metadata": {},
   "outputs": [],
   "source": [
    "W_1, W_2, W_3, W_4 = symbols('W_1, W_2, W_3, W_4')\n",
    "W = Matrix([[W_1], [W_2], [W_3], [W_4]])\n",
    "E, I, h = symbols('E, I, h')"
   ]
  },
  {
   "cell_type": "markdown",
   "id": "9983b5f7-8e9d-4eb9-b75c-c52db41766ef",
   "metadata": {},
   "source": [
    "The curvature-displacement matrix $B$ is constructed from the second derivatives of the basis functions, "
   ]
  },
  {
   "cell_type": "code",
   "execution_count": 123,
   "id": "0f17478f-836a-455f-8bfe-a0fca0ec2c02",
   "metadata": {},
   "outputs": [],
   "source": [
    "d2N1x2 = diff(N1, xi, 2) * (2/h)**2\n",
    "d2N2x2 = diff(N2, xi, 2) * (2/h)**2\n",
    "d2N3x2 = diff(N3, xi, 2) * (2/h)**2\n",
    "d2N4x2 = diff(N4, xi, 2) * (2/h)**2"
   ]
  },
  {
   "cell_type": "markdown",
   "id": "cb0b405e-cdf7-4e3f-a907-0236c8211e57",
   "metadata": {},
   "source": [
    "as"
   ]
  },
  {
   "cell_type": "code",
   "execution_count": 124,
   "id": "87ca7964-0e8b-4b55-a6a6-925eff3c6f13",
   "metadata": {},
   "outputs": [
    {
     "name": "stdout",
     "output_type": "stream",
     "text": [
      "Matrix([[6*xi/h**2, (1 - 3*xi)/h, -6*xi/h**2, -(3*xi + 1)/h]])\n"
     ]
    }
   ],
   "source": [
    "B = Matrix([d2N1x2, (h/2) * d2N2x2, d2N3x2, (h/2) * d2N4x2]).reshape(1, 4)\n",
    "print(B)"
   ]
  },
  {
   "cell_type": "markdown",
   "id": "9cda80dd-6777-40f3-8098-7d67b430a60d",
   "metadata": {},
   "source": [
    "So now we can define symbolically an expression for the bending moment:"
   ]
  },
  {
   "cell_type": "code",
   "execution_count": 125,
   "id": "535695e6-b72b-429f-ad3c-a86a0b086fb9",
   "metadata": {},
   "outputs": [
    {
     "name": "stdout",
     "output_type": "stream",
     "text": [
      "M =  -E*I*(6*W_1*xi/h**2 + W_2*(1 - 3*xi)/h - 6*W_3*xi/h**2 - W_4*(3*xi + 1)/h)\n"
     ]
    }
   ],
   "source": [
    "M = - E * I * (B * W)[0]\n",
    "print('M = ', M)\n"
   ]
  },
  {
   "cell_type": "markdown",
   "id": "bfd2fffe-86f7-4ba4-9c84-c4607f191e46",
   "metadata": {},
   "source": [
    "Note that the bending moment along the beam varies linearly as a function of $\\xi$, and depends linearly on $W_1, ..., W_4$. "
   ]
  },
  {
   "cell_type": "markdown",
   "id": "33b2a906-a045-4ee7-b486-681322ebb092",
   "metadata": {},
   "source": [
    "We are looking for the stiffness matrix of the beam, namely  the matrix $K$ that gives the forces acting on the endpoints of the beam $F$ in terms of the displacements $W$ (well, generalized displacements, really, since they include translations and rotations). So\n",
    "\n",
    "$$\n",
    "F = K \\times W\n",
    "$$"
   ]
  },
  {
   "cell_type": "markdown",
   "id": "9e1a69be-a22c-40aa-a1bf-c221975eed7c",
   "metadata": {},
   "source": [
    "We can obtain the entries of the stiffness matrix using Castgliano's theorem. First we express the strain energy stored in the beam as\n",
    "\n",
    "$$\n",
    "U  = (1/2) \\int_0^h M^2/(EI) dx = 1/(2EI) \\int_{-1}^{+1} M^2 d\\xi (h/2) = h/(4EI)\\int_{-1}^{+1} M^2 d\\xi\n",
    "$$\n",
    "\n",
    "where we can evaluate the necessary integral as"
   ]
  },
  {
   "cell_type": "code",
   "execution_count": 126,
   "id": "5add4e03-fd24-4d0b-8954-382fdb81a7e8",
   "metadata": {},
   "outputs": [
    {
     "name": "stdout",
     "output_type": "stream",
     "text": [
      "2*E*I*(3*W_1**2 - 3*W_1*W_2*h - 6*W_1*W_3 - 3*W_1*W_4*h + W_2**2*h**2 + 3*W_2*W_3*h + W_2*W_4*h**2 + 3*W_3**2 + 3*W_3*W_4*h + W_4**2*h**2)/h**3\n"
     ]
    }
   ],
   "source": [
    "U = h/(4*E*I) * integrate(M**2, (xi, -1, +1))\n",
    "print(simplify(U))"
   ]
  },
  {
   "cell_type": "markdown",
   "id": "cbe91824-7e30-4585-89fb-a6ab07885005",
   "metadata": {},
   "source": [
    "Now the partial derivative of the strain energy  $U$ with respect to the first degree of freedom $W_1$ will reveal the work-conjugate generalized force,  namely the shear force that works on the first degree of freedom (vertical displacement at the left hand side end)"
   ]
  },
  {
   "cell_type": "code",
   "execution_count": 127,
   "id": "2e9e8137-676d-4907-b8a5-e9b6ef28eb3a",
   "metadata": {},
   "outputs": [
    {
     "name": "stdout",
     "output_type": "stream",
     "text": [
      "6*E*I*(2*W_1 - W_2*h - 2*W_3 - W_4*h)/h**3\n"
     ]
    }
   ],
   "source": [
    "print(simplify(diff(U, W_1)))"
   ]
  },
  {
   "cell_type": "markdown",
   "id": "0e60fd1b-9134-488f-bb8f-9ed2f71572aa",
   "metadata": {},
   "source": [
    "This is actually the first row of the $4\\times4$ stiffness matrix multiplied by the degrees of freedom. The first row of the stiffness matrix can therefore be written as\n",
    "\n",
    "$$\n",
    "[12 EI/h^3, -6EI/h^2, 12 EI/h^3, -6EI/h^2]\n",
    "$$\n",
    "\n",
    "And similarly the second row follows as"
   ]
  },
  {
   "cell_type": "code",
   "execution_count": 128,
   "id": "4c236bf1-65a0-4c2e-8ac0-e0d736f90dc4",
   "metadata": {},
   "outputs": [
    {
     "name": "stdout",
     "output_type": "stream",
     "text": [
      "2*E*I*(-3*W_1 + 2*W_2*h + 3*W_3 + W_4*h)/h**2\n"
     ]
    }
   ],
   "source": [
    "print(simplify(diff(U, W_2)))"
   ]
  },
  {
   "cell_type": "markdown",
   "id": "537cd006-8935-4df9-aa74-16c7b36ec913",
   "metadata": {},
   "source": [
    "The remaining two rows follow from"
   ]
  },
  {
   "cell_type": "code",
   "execution_count": 129,
   "id": "d3d1d937-46e5-40e1-8348-f61212bb889f",
   "metadata": {},
   "outputs": [
    {
     "name": "stdout",
     "output_type": "stream",
     "text": [
      "6*E*I*(-2*W_1 + W_2*h + 2*W_3 + W_4*h)/h**3\n",
      "2*E*I*(-3*W_1 + W_2*h + 3*W_3 + 2*W_4*h)/h**2\n"
     ]
    }
   ],
   "source": [
    "print(simplify(diff(U, W_3)))\n",
    "print(simplify(diff(U, W_4)))"
   ]
  },
  {
   "cell_type": "markdown",
   "id": "d3428af2-3bb9-473e-ba54-79d9c2965214",
   "metadata": {},
   "source": [
    "The weighted residual method states that the stiffness matrix can be obtained as\n",
    "\n",
    "$$\n",
    "K = EI \\int_{-1}^{+1} B^T B \\; d\\xi\\; (h/2)\n",
    "$$"
   ]
  },
  {
   "cell_type": "markdown",
   "id": "34935ff1-c5bd-49f8-b593-abf47f59e6d4",
   "metadata": {},
   "source": [
    "The symbolic code below does precisely this."
   ]
  },
  {
   "cell_type": "code",
   "execution_count": 130,
   "id": "55ac5ca4-0edb-4442-b4f8-8c743fab8b00",
   "metadata": {},
   "outputs": [
    {
     "name": "stdout",
     "output_type": "stream",
     "text": [
      "Matrix([[12*E*I/h**3, -6*E*I/h**2, -12*E*I/h**3, -6*E*I/h**2], [-6*E*I/h**2, 4*E*I/h, 6*E*I/h**2, 2*E*I/h], [-12*E*I/h**3, 6*E*I/h**2, 12*E*I/h**3, 6*E*I/h**2], [-6*E*I/h**2, 2*E*I/h, 6*E*I/h**2, 4*E*I/h]])\n"
     ]
    }
   ],
   "source": [
    "K = E * I * integrate(B.T * B, (xi, -1, 1)) * (h/2) \n",
    "print(K)"
   ]
  },
  {
   "cell_type": "markdown",
   "id": "7b100830-7f64-42fc-adbb-3790050d4a6c",
   "metadata": {},
   "source": [
    "We can finally show that the same result can be obtained with numerical integration. Here we use two-point Gauss rule, which should be \"exact\", since the integrand is only a quadratic function of $\\xi$. "
   ]
  },
  {
   "cell_type": "code",
   "execution_count": 131,
   "id": "b8954a39-eae8-44fe-99f5-be5e1235f43c",
   "metadata": {},
   "outputs": [
    {
     "name": "stdout",
     "output_type": "stream",
     "text": [
      "Matrix([[12/h**3, -6/h**2, -12/h**3, -6/h**2], [-6/h**2, 4/h, 6/h**2, 2/h], [-12/h**3, 6/h**2, 12/h**3, 6/h**2], [-6/h**2, 2/h, 6/h**2, 4/h]])\n"
     ]
    }
   ],
   "source": [
    "xiG = [-1/sqrt(3), 1/sqrt(3)]\n",
    "WG = [1, 1]\n",
    "K = zeros(4, 4)\n",
    "for q in range(2):\n",
    "    B1 = B.subs(xi, xiG[q])\n",
    "    K += B1.T * B1 * WG[q] * (h/2)\n",
    "print(simplify(K))\n",
    "    "
   ]
  }
 ],
 "metadata": {
  "kernelspec": {
   "display_name": "Python 3 (ipykernel)",
   "language": "python",
   "name": "python3"
  },
  "language_info": {
   "codemirror_mode": {
    "name": "ipython",
    "version": 3
   },
   "file_extension": ".py",
   "mimetype": "text/x-python",
   "name": "python",
   "nbconvert_exporter": "python",
   "pygments_lexer": "ipython3",
   "version": "3.13.1"
  }
 },
 "nbformat": 4,
 "nbformat_minor": 5
}
