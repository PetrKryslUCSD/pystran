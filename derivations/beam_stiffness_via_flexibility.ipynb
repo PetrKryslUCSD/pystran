{
 "cells": [
  {
   "cell_type": "markdown",
   "id": "6721ee76-acda-46cb-a75a-133763529a16",
   "metadata": {},
   "source": [
    "# Derivation of beam stiffness matrix via flexibility\n",
    "\n",
    "We show how to derive the stiffness matrix of the basic beam element from complementary strain energy, proceeding via the flexibility matrix."
   ]
  },
  {
   "cell_type": "markdown",
   "id": "992a3992-4a71-4ec4-89b6-9b11c591c693",
   "metadata": {},
   "source": [
    "![Beam](beam2d.png)\n",
    "\n"
   ]
  },
  {
   "cell_type": "markdown",
   "id": "d655ef76-573d-449a-b330-28c7286482eb",
   "metadata": {},
   "source": [
    "The figure above shows the beam with two degrees of freedom, deflection $v_i$ and  $v_j$, and rotation $\\phi_i$ and $\\phi_j$, at the joints.\n",
    "The length of the beam is taken to be $h$, and we take the coordinate along the axis of the beam to be $x$ such that $x=0$ is the location of joint $i$, and $x=h$ is the location of joint $j$.\n",
    "\n",
    "This structure is unsupported, which means its stiffness matrix is singular. Therefore, that matrix cannot be obtained by inverting a flexibility matrix for the unsupported structure, since that would also be singular."
   ]
  },
  {
   "cell_type": "markdown",
   "id": "664e4c79-1730-456b-9b92-baf2e80298d8",
   "metadata": {},
   "source": [
    "We need to construct the flexibility matrix for a _supported_ structure. \n",
    "There need to be sufficient supports to remove rigid body displacements.\n",
    "Since the structure cannot translate horizontally, there are two rigid body displacement modes: \n",
    "vertical translation and rotation. To suppress the rigid body displacements we need to constrain\n",
    "two degrees of freedom  to zero.\n",
    "\n",
    "We will show employ the example of a simply-supported beam. Consider the situation shown in the figure below:"
   ]
  },
  {
   "cell_type": "markdown",
   "id": "8ffe14d2-868f-4a2b-a9ec-121aa734bd88",
   "metadata": {},
   "source": [
    "![Beam](beam2d-ss.png)"
   ]
  },
  {
   "cell_type": "markdown",
   "id": "26f04ed1-b653-4115-8c12-59a8de562b07",
   "metadata": {},
   "source": [
    "The beam is supported on rollers at the joints, and loaded with end moments $M_i$ and $M_j$. Under these loads the joints rotate by\n",
    "$\\theta_i$ and $\\theta_j$. The moment along the axis of the beam is $M(x)=M_i + (x/h)(M_j-M_i)$. \n",
    "\n",
    "The complementary strain energy (which for this linearly elastic structure is the same as strain energy) stored in the beam can be calculated as $U=(1/2/EI)\\int_0^h (M(x))^2\\;dx$. Using `sympy`: "
   ]
  },
  {
   "cell_type": "code",
   "execution_count": 214,
   "id": "7da41954-7dcf-45c8-9a8e-40bb79dbb4a3",
   "metadata": {},
   "outputs": [
    {
     "name": "stdout",
     "output_type": "stream",
     "text": [
      "U =  1.0*h*(0.166666666666667*Mi**2 - 0.166666666666667*Mi*Mj + 0.166666666666667*Mj**2)/EI\n"
     ]
    }
   ],
   "source": [
    "from sympy import *\n",
    "Mi, Mj, x, h, EI = symbols('Mi, Mj, x, h, EI')\n",
    "M = Mi - (x / h) * (Mi + Mj)\n",
    "U = (1/2) * integrate(M**2 / EI, (x, 0, h))\n",
    "U = simplify(U)\n",
    "print('U = ', U)\n"
   ]
  },
  {
   "cell_type": "markdown",
   "id": "ed9d2b1a-eb89-4746-8a06-54bdb059f8f9",
   "metadata": {},
   "source": [
    "This expression can then be differentiated with respect to\n",
    "the applied moments to obtain the rotations at the joints, as follows from Castiliagno's second theorem."
   ]
  },
  {
   "cell_type": "code",
   "execution_count": 215,
   "id": "1b1a7227-45e6-426b-b100-1858887f3f31",
   "metadata": {},
   "outputs": [
    {
     "name": "stdout",
     "output_type": "stream",
     "text": [
      "thi =  1.0*h*(0.333333333333333*Mi - 0.166666666666667*Mj)/EI\n",
      "thj =  1.0*h*(-0.166666666666667*Mi + 0.333333333333333*Mj)/EI\n"
     ]
    }
   ],
   "source": [
    "thi = simplify(diff(U, Mi))\n",
    "print('thi = ', thi)\n",
    "thj = simplify(diff(U, Mj))\n",
    "print('thj = ', thj)"
   ]
  },
  {
   "cell_type": "markdown",
   "id": "d894209b-8456-41f8-aad4-d2aaa66b5621",
   "metadata": {},
   "source": [
    "The relationships can be written in matrix form as\n",
    "$$\n",
    "\\left[\\begin{array}{c}\\theta_i\\\\\\theta_j\\end{array}\\right]\n",
    "= \\frac{h}{EI}\\left[\\begin{array}{cc}1/3, & -1/6\\\\ -1/6,& 1/3 \\end{array}\\right]\n",
    "\\left[\\begin{array}{c}M_i\\\\ M_j\\end{array}\\right],\n",
    "$$\n",
    "where we introduce the flexibility matrix, i.e."
   ]
  },
  {
   "cell_type": "code",
   "execution_count": 216,
   "id": "c320a333-4886-4c27-949b-385d724d8dac",
   "metadata": {},
   "outputs": [
    {
     "data": {
      "text/latex": [
       "$\\displaystyle \\left[\\begin{matrix}\\frac{0.333333333333333 h}{EI} & - \\frac{0.166666666666667 h}{EI}\\\\- \\frac{0.166666666666667 h}{EI} & \\frac{0.333333333333333 h}{EI}\\end{matrix}\\right]$"
      ],
      "text/plain": [
       "Matrix([\n",
       "[ 0.333333333333333*h/EI, -0.166666666666667*h/EI],\n",
       "[-0.166666666666667*h/EI,  0.333333333333333*h/EI]])"
      ]
     },
     "metadata": {},
     "output_type": "display_data"
    }
   ],
   "source": [
    "F = (h/EI) * Matrix([[1/3, -1/6], [-1/6, 1/3]])\n",
    "display(F)"
   ]
  },
  {
   "cell_type": "markdown",
   "id": "87932bd6-c360-4020-8a48-59cbcac87667",
   "metadata": {},
   "source": [
    "The stiffness matrix of this system is obtained by inverting the flexibility matrix:"
   ]
  },
  {
   "cell_type": "code",
   "execution_count": 217,
   "id": "0fe9174c-5dc3-4270-923d-c861dd818fec",
   "metadata": {},
   "outputs": [
    {
     "data": {
      "text/latex": [
       "$\\displaystyle \\left[\\begin{matrix}\\frac{4.0 EI}{h} & \\frac{2.0 EI}{h}\\\\\\frac{2.0 EI}{h} & \\frac{4.0 EI}{h}\\end{matrix}\\right]$"
      ],
      "text/plain": [
       "Matrix([\n",
       "[4.0*EI/h, 2.0*EI/h],\n",
       "[2.0*EI/h, 4.0*EI/h]])"
      ]
     },
     "metadata": {},
     "output_type": "display_data"
    }
   ],
   "source": [
    "S = F**(-1)\n",
    "display(S)"
   ]
  },
  {
   "cell_type": "markdown",
   "id": "f9faa956-753f-4ac9-9bbd-164757530588",
   "metadata": {},
   "source": [
    "Next we imagine that the structure is freed of the constraint of the rollers and can move vertically\n",
    "in its deformed state. In other words, to the deformed shape of the structure we add a rigid body motion.\n",
    "The resulting picture illustrates  the total rotation of joint $i$ obtained as $\\phi_i=\\theta_i+(v_j-v_i)/h$,\n",
    "and the total rotation of joint $j$ obtained as $\\phi_j=\\theta_j+(v_j-v_i)/h$."
   ]
  },
  {
   "cell_type": "markdown",
   "id": "a79de458-c5f4-42a1-b616-bca7109a4f94",
   "metadata": {},
   "source": [
    "![Beam](beam2d-ss-rb.png)"
   ]
  },
  {
   "cell_type": "markdown",
   "id": "251dfa4f-1867-40b5-beed-fb09f9637ffd",
   "metadata": {},
   "source": [
    "Thus we can write\n",
    "$$\n",
    "\\left[\\begin{array}{c}\\theta_i\\\\\\theta_j\\end{array}\\right]\n",
    "= \\left[\\begin{array}{cccc} 1/h, & 1, & -1/h, & 0 \\\\ \n",
    "                            1/h, & 0, & -1/h, & 1\\end{array}\\right]\n",
    "\\left[\\begin{array}{c}v_i\\\\ \\phi_i \\\\ v_j \\\\ \\phi_j \\end{array}\\right].\n",
    "$$\n",
    "where we can define \n",
    "$$\n",
    "G\n",
    "= \\left[\\begin{array}{cccc} 1/h, & 1, & -1/h, & 0 \\\\ \n",
    "                            1/h, & 0, & -1/h, & 1\\end{array}\\right].\n",
    "$$"
   ]
  },
  {
   "cell_type": "markdown",
   "id": "1da9a9f7-d98d-4234-8bfa-66f0ca0bf46a",
   "metadata": {},
   "source": [
    "The next step is to take advantage of the fact that the strain energy $U$ can also be written in terms of the stiffness matrix,\n",
    "$U = (1/2)\\theta^T \\cdot S  \\cdot \\theta $ (where $\\theta$ is a vector collecting $\\theta_i, \\theta_j$; refer to the equation above)"
   ]
  },
  {
   "cell_type": "code",
   "execution_count": 218,
   "id": "eb580fb8-c706-4dc3-9847-facfb625a2ce",
   "metadata": {},
   "outputs": [
    {
     "data": {
      "text/latex": [
       "$\\displaystyle \\frac{1.0 h \\left(2.77555756156289 \\cdot 10^{-17} Mi^{2} + 1.38777878078145 \\cdot 10^{-17} Mi Mj + 1.85037170770859 \\cdot 10^{-17} Mj^{2}\\right)}{EI}$"
      ],
      "text/plain": [
       "1.0*h*(2.77555756156289e-17*Mi**2 + 1.38777878078145e-17*Mi*Mj + 1.85037170770859e-17*Mj**2)/EI"
      ]
     },
     "execution_count": 218,
     "metadata": {},
     "output_type": "execute_result"
    }
   ],
   "source": [
    "th = Matrix([thi, thj])\n",
    "simplify(U - 1/2*(th.T * S * v)[0])"
   ]
  },
  {
   "cell_type": "markdown",
   "id": "28a872bc-fe70-4f04-aca3-600fc60118b9",
   "metadata": {},
   "source": [
    "So, nearly zero (not exactly zero, due to the floating-point arithmetic round-off errors)."
   ]
  },
  {
   "cell_type": "markdown",
   "id": "9e6a3e5e-f911-4ec4-9a84-16995f5bd8d8",
   "metadata": {},
   "source": [
    "When we take this formula, and substitute the transformation $\\theta=G v$ (where $v=[v_i, \\theta_i, v_j, \\theta_j]^T$), we obtain\n",
    "$$U=(1/2)\\theta^T \\cdot S  \\cdot \\theta =(1/2)v^T \\cdot G^T \\cdot S  \\cdot G \\cdot v = (1/2)v^T   \\cdot K \\cdot v$$\n",
    "where the $4\\times 4 $ stiffness matrix $K = G^T \\cdot S  \\cdot G$ of the free-free beam is introduced. That is"
   ]
  },
  {
   "cell_type": "code",
   "execution_count": 219,
   "id": "d7cc2bee-c67b-4aaa-924a-bc00b4e34824",
   "metadata": {},
   "outputs": [
    {
     "data": {
      "text/latex": [
       "$\\displaystyle \\left[\\begin{matrix}\\frac{12.0 EI}{h^{3}} & \\frac{6.0 EI}{h^{2}} & - \\frac{12.0 EI}{h^{3}} & \\frac{6.0 EI}{h^{2}}\\\\\\frac{6.0 EI}{h^{2}} & \\frac{4.0 EI}{h} & - \\frac{6.0 EI}{h^{2}} & \\frac{2.0 EI}{h}\\\\- \\frac{12.0 EI}{h^{3}} & - \\frac{6.0 EI}{h^{2}} & \\frac{12.0 EI}{h^{3}} & - \\frac{6.0 EI}{h^{2}}\\\\\\frac{6.0 EI}{h^{2}} & \\frac{2.0 EI}{h} & - \\frac{6.0 EI}{h^{2}} & \\frac{4.0 EI}{h}\\end{matrix}\\right]$"
      ],
      "text/plain": [
       "Matrix([\n",
       "[ 12.0*EI/h**3,  6.0*EI/h**2, -12.0*EI/h**3,  6.0*EI/h**2],\n",
       "[  6.0*EI/h**2,     4.0*EI/h,  -6.0*EI/h**2,     2.0*EI/h],\n",
       "[-12.0*EI/h**3, -6.0*EI/h**2,  12.0*EI/h**3, -6.0*EI/h**2],\n",
       "[  6.0*EI/h**2,     2.0*EI/h,  -6.0*EI/h**2,     4.0*EI/h]])"
      ]
     },
     "metadata": {},
     "output_type": "display_data"
    }
   ],
   "source": [
    "G = Matrix([[1/h, 1, -1/h, 0], \n",
    "            [1/h, 0, -1/h, 1]])\n",
    "K = G.T * S * G\n",
    "display(K)"
   ]
  },
  {
   "cell_type": "markdown",
   "id": "0939c1e5-fe0a-4fb3-8c65-8565e81d8b03",
   "metadata": {},
   "source": [
    "The second approach outlined next supports the beam by a clamped condition at the left hand \n",
    "side end. "
   ]
  },
  {
   "cell_type": "markdown",
   "id": "54167a12-9525-4bc9-9b74-35202ae41817",
   "metadata": {},
   "source": [
    "![Beam](beam2d-cl.png)"
   ]
  },
  {
   "cell_type": "markdown",
   "id": "2e74a581-9cc7-4530-9608-b3561d69c6ab",
   "metadata": {},
   "source": [
    "The right hand side \n",
    "is assumed to be loaded by a vertical force $V_j$  and  a bending moment\n",
    "$M_j$. Therefore, at any location of the beam the bending moment is $M(x)=M_j+V_j(h-x)$.\n",
    "Consequently, we can express the strain energy stored in the beam as a function of the applied loads:"
   ]
  },
  {
   "cell_type": "code",
   "execution_count": 220,
   "id": "d0edc775-4cda-4755-a189-3079d6ab007e",
   "metadata": {},
   "outputs": [
    {
     "name": "stdout",
     "output_type": "stream",
     "text": [
      "U =  1.0*h*(0.5*Mj**2 + 0.5*Mj*Vj*h + 0.166666666666667*Vj**2*h**2)/EI\n"
     ]
    }
   ],
   "source": [
    "from sympy import *\n",
    "Vj, Mj, x, h, EI = symbols('Vj, Mj, x, h, EI')\n",
    "M = Mj + Vj * (h - x)\n",
    "U = (1/2) * integrate(M**2 / EI, (x, 0, h))\n",
    "U = simplify(U)\n",
    "print('U = ', U)"
   ]
  },
  {
   "cell_type": "markdown",
   "id": "0e1402a9-dcf7-4f87-afaa-71c54dd34f41",
   "metadata": {},
   "source": [
    "And, consequently, we can calculate the displacement of the tip $d_j$ and its slope $\\theta_j$ as"
   ]
  },
  {
   "cell_type": "code",
   "execution_count": 221,
   "id": "6ee09318-8ca8-40f7-892c-66b4e2c9a9ff",
   "metadata": {},
   "outputs": [
    {
     "name": "stdout",
     "output_type": "stream",
     "text": [
      "Tip deflection dj =  h**2*(0.5*Mj + 0.333333333333333*Vj*h)/EI\n",
      "Tip slope thj = 1.0*h*(1.0*Mj + 0.5*Vj*h)/EI\n"
     ]
    }
   ],
   "source": [
    "dj = simplify(diff(U, Vj))\n",
    "print('Tip deflection dj = ', dj)\n",
    "thj = simplify(diff(U, Mj))\n",
    "print('Tip slope thj =', thj)"
   ]
  },
  {
   "cell_type": "markdown",
   "id": "67101b26-c612-4f30-8a88-0ac456d34213",
   "metadata": {},
   "source": [
    "Now the flexibility matrix can be written down:"
   ]
  },
  {
   "cell_type": "code",
   "execution_count": 222,
   "id": "3a83989a-4b02-429d-a81e-7499172d96e2",
   "metadata": {},
   "outputs": [
    {
     "name": "stdout",
     "output_type": "stream",
     "text": [
      "F = \n"
     ]
    },
    {
     "data": {
      "text/latex": [
       "$\\displaystyle \\left[\\begin{matrix}\\frac{0.333333333333333 h^{3}}{EI} & \\frac{0.5 h^{2}}{EI}\\\\\\frac{0.5 h^{2}}{EI} & \\frac{1.0 h}{EI}\\end{matrix}\\right]$"
      ],
      "text/plain": [
       "Matrix([\n",
       "[0.333333333333333*h**3/EI, 0.5*h**2/EI],\n",
       "[              0.5*h**2/EI,    1.0*h/EI]])"
      ]
     },
     "metadata": {},
     "output_type": "display_data"
    }
   ],
   "source": [
    "F = Matrix([[diff(dj, Vj), diff(dj, Mj)], [diff(thj, Vj), diff(thj, Mj)]])\n",
    "print('F = ', )\n",
    "display(F)"
   ]
  },
  {
   "cell_type": "markdown",
   "id": "3e013a13-c642-46d5-90b6-62c321bba03b",
   "metadata": {},
   "source": [
    "This flexibility matrix yields the tip deflection and the slope of the beam at the tip as a function of the applied load.\n",
    "That relationship can be inverted to give the stiffness matrix: the forces necessary for equilibrium that are produced\n",
    "when we know the deflection and the slope."
   ]
  },
  {
   "cell_type": "code",
   "execution_count": 223,
   "id": "a9847b28-806f-4178-a9d0-84a0f361e7ed",
   "metadata": {},
   "outputs": [
    {
     "name": "stdout",
     "output_type": "stream",
     "text": [
      "S = \n"
     ]
    },
    {
     "data": {
      "text/latex": [
       "$\\displaystyle \\left[\\begin{matrix}\\frac{12.0 EI}{h^{3}} & - \\frac{6.0 EI}{h^{2}}\\\\- \\frac{6.0 EI}{h^{2}} & \\frac{4.0 EI}{h}\\end{matrix}\\right]$"
      ],
      "text/plain": [
       "Matrix([\n",
       "[12.0*EI/h**3, -6.0*EI/h**2],\n",
       "[-6.0*EI/h**2,     4.0*EI/h]])"
      ]
     },
     "metadata": {},
     "output_type": "display_data"
    }
   ],
   "source": [
    "S = F**(-1)\n",
    "print('S = ')\n",
    "display(S)"
   ]
  },
  {
   "cell_type": "markdown",
   "id": "76047838-6201-4c85-af64-f0d43e386732",
   "metadata": {},
   "source": [
    "Now we again consider that the support may move, in this case the clamped joint $i$ is assumed to translate by $v_i$ \n",
    "and rotate by the angle $\\phi_i$. "
   ]
  },
  {
   "cell_type": "markdown",
   "id": "637aa3dd-cbc0-4cd9-ad04-fc37ef74d029",
   "metadata": {},
   "source": [
    "![Beam](beam2d-cl-rb.png)"
   ]
  },
  {
   "cell_type": "markdown",
   "id": "6cc3f584-9c6c-4a43-9958-a631dd8e7dd6",
   "metadata": {},
   "source": [
    "Therefore we have the relationships\n",
    "$$\n",
    "d_j = v_j - v_i - h\\phi_i\n",
    "$$\n",
    " and \n",
    " $$\n",
    " \\theta_j = \\phi_j - \\phi_i\n",
    " $$\n",
    "In matrix form,\n",
    "$$\n",
    "\\left[\\begin{array}{c} d_j \\\\ \\theta_j\\end{array}\\right]\n",
    "= \\left[\\begin{array}{cccc} -1, & -h, & 1,& 0 \\\\ \n",
    "                            0, & -1, & 0, &1\\end{array}\\right]\n",
    "\\left[\\begin{array}{c}v_i\\\\ \\phi_i \\\\ v_j \\\\ \\phi_j \\end{array}\\right].\n",
    "$$\n"
   ]
  },
  {
   "cell_type": "code",
   "execution_count": 224,
   "id": "ad48b178-11cb-4743-8ade-0bf06efb24fc",
   "metadata": {},
   "outputs": [],
   "source": [
    "G = Matrix([[-1, -h, 1, 0], [0, -1, 0, 1]])"
   ]
  },
  {
   "cell_type": "code",
   "execution_count": 225,
   "id": "6e07a76f-979e-40be-af75-ca07f301f151",
   "metadata": {},
   "outputs": [
    {
     "data": {
      "text/latex": [
       "$\\displaystyle \\left[\\begin{matrix}\\frac{12.0 EI}{h^{3}} & \\frac{6.0 EI}{h^{2}} & - \\frac{12.0 EI}{h^{3}} & \\frac{6.0 EI}{h^{2}}\\\\\\frac{6.0 EI}{h^{2}} & \\frac{4.0 EI}{h} & - \\frac{6.0 EI}{h^{2}} & \\frac{2.0 EI}{h}\\\\- \\frac{12.0 EI}{h^{3}} & - \\frac{6.0 EI}{h^{2}} & \\frac{12.0 EI}{h^{3}} & - \\frac{6.0 EI}{h^{2}}\\\\\\frac{6.0 EI}{h^{2}} & \\frac{2.0 EI}{h} & - \\frac{6.0 EI}{h^{2}} & \\frac{4.0 EI}{h}\\end{matrix}\\right]$"
      ],
      "text/plain": [
       "Matrix([\n",
       "[ 12.0*EI/h**3,  6.0*EI/h**2, -12.0*EI/h**3,  6.0*EI/h**2],\n",
       "[  6.0*EI/h**2,     4.0*EI/h,  -6.0*EI/h**2,     2.0*EI/h],\n",
       "[-12.0*EI/h**3, -6.0*EI/h**2,  12.0*EI/h**3, -6.0*EI/h**2],\n",
       "[  6.0*EI/h**2,     2.0*EI/h,  -6.0*EI/h**2,     4.0*EI/h]])"
      ]
     },
     "metadata": {},
     "output_type": "display_data"
    }
   ],
   "source": [
    "K = G.T * S * G\n",
    "display(K)"
   ]
  },
  {
   "cell_type": "markdown",
   "id": "6f62393c-2ff7-46b7-92ea-5c72b9012943",
   "metadata": {},
   "source": [
    "Conclusions: For both systems of supports of the beam, simply-supported and clamped,\n",
    "we derived the flexibility matrix from the strain energy, employing the second derivatives\n",
    "of the (complementary) strain energy (Castiliagno's second theorem). These flexibility matrices could be inverted, to yield $2\\times2$\n",
    "stiffness matrices. Then the original degrees of freedom were expanded in both cases by adding in rigid body motion.\n",
    "The resulting transformation gave the well known beam stiffness matrix."
   ]
  }
 ],
 "metadata": {
  "kernelspec": {
   "display_name": "Python 3 (ipykernel)",
   "language": "python",
   "name": "python3"
  },
  "language_info": {
   "codemirror_mode": {
    "name": "ipython",
    "version": 3
   },
   "file_extension": ".py",
   "mimetype": "text/x-python",
   "name": "python",
   "nbconvert_exporter": "python",
   "pygments_lexer": "ipython3",
   "version": "3.13.2"
  }
 },
 "nbformat": 4,
 "nbformat_minor": 5
}
