{
 "cells": [
  {
   "cell_type": "markdown",
   "id": "43d31f2e-a65d-43cd-b608-199e4243fa84",
   "metadata": {},
   "source": [
    "# Continuous beam with two spans"
   ]
  },
  {
   "cell_type": "markdown",
   "id": "ed2cfdfc-98f6-4204-b9fe-028f0d6b8eba",
   "metadata": {},
   "source": [
    "Example 7.1 from Structural Mechanics. Analytical and Numerical Approaches for Structural Analysis\n",
    "by Lingyi Lu, Junbo Jia, Zhuo Tang. "
   ]
  },
  {
   "cell_type": "code",
   "execution_count": 2,
   "id": "bc46ab3c-8196-4b2f-9303-6216d6acf568",
   "metadata": {},
   "outputs": [],
   "source": [
    "from context import stranalyzer"
   ]
  },
  {
   "cell_type": "code",
   "execution_count": 3,
   "id": "d0971274-0f68-4935-b81d-c0dad004dc4a",
   "metadata": {},
   "outputs": [],
   "source": [
    "from stranalyzer import model\n",
    "from stranalyzer import property\n",
    "from stranalyzer import geometry"
   ]
  },
  {
   "cell_type": "code",
   "execution_count": 4,
   "id": "6d7b74ea-2808-4ca6-a76d-2f379fcdab46",
   "metadata": {},
   "outputs": [
    {
     "name": "stdout",
     "output_type": "stream",
     "text": [
      "Number of free degrees of freedom =  3\n",
      "Number of all degrees of freedom =  9\n",
      "[array([3, 4, 0], dtype=int32), array([5, 6, 1], dtype=int32), array([7, 8, 2], dtype=int32)]\n",
      "[[ 345600.          172800.               0.        ]\n",
      " [ 172800.         1701668.57142857  678034.28571429]\n",
      " [      0.          678034.28571429 1356068.57142857]]\n",
      "[ 0.02969075  0.02742406 -0.03952194]\n"
     ]
    }
   ],
   "source": [
    "m = model.create(2)\n",
    "\n",
    "model.add_joint(m, 1, [0.0, 0.0])\n",
    "model.add_joint(m, 2, [5.0, 0.0])\n",
    "model.add_joint(m, 3, [12.0, 0.0])\n",
    "model.add_support(m['joints'][1], model.U1)\n",
    "model.add_support(m['joints'][1], model.U2)\n",
    "model.add_support(m['joints'][2], model.U1)\n",
    "model.add_support(m['joints'][2], model.U2)\n",
    "model.add_support(m['joints'][3], model.U1)\n",
    "model.add_support(m['joints'][3], model.U2)\n",
    "\n",
    "E = 3e10\n",
    "A = 0.001\n",
    "I = 1.44e-5\n",
    "p1 = property.beam_2d_property('material_1', E, A, I)\n",
    "model.add_beam_member(m, 1, [1, 2], p1)\n",
    "E = 2.06e11\n",
    "A = 0.001\n",
    "I = 1.152e-5\n",
    "p2 = property.beam_2d_property('material_2', E, A, I)\n",
    "model.add_beam_member(m, 2, [3, 2], p2)\n",
    "\n",
    "model.add_load(m['joints'][1], 2, 15e3)\n",
    "model.add_load(m['joints'][2], 2, 25e3)\n",
    "model.add_load(m['joints'][3], 2, -35e3)\n",
    "\n",
    "model.number_dofs(m)\n",
    "\n",
    "print('Number of free degrees of freedom = ', m['nfreedof'])\n",
    "print('Number of all degrees of freedom = ', m['ntotaldof'])\n",
    "\n",
    "print([j['dof'] for j in m['joints'].values()])\n",
    "\n",
    "model.solve(m)\n",
    "\n",
    "print(m['K'][0:3, 0:3])\n",
    "\n",
    "print(m['U'][0:3])\n",
    "    "
   ]
  },
  {
   "cell_type": "code",
   "execution_count": null,
   "id": "9ad51de2-267f-4e5b-a72b-cab4182119c2",
   "metadata": {},
   "outputs": [],
   "source": []
  }
 ],
 "metadata": {
  "kernelspec": {
   "display_name": "Python 3 (ipykernel)",
   "language": "python",
   "name": "python3"
  },
  "language_info": {
   "codemirror_mode": {
    "name": "ipython",
    "version": 3
   },
   "file_extension": ".py",
   "mimetype": "text/x-python",
   "name": "python",
   "nbconvert_exporter": "python",
   "pygments_lexer": "ipython3",
   "version": "3.13.0"
  }
 },
 "nbformat": 4,
 "nbformat_minor": 5
}
